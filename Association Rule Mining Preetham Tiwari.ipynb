{
 "cells": [
  {
   "cell_type": "markdown",
   "id": "c660f294",
   "metadata": {},
   "source": [
    "# MODULE 9 Association Rule Mining Assignment 5"
   ]
  },
  {
   "cell_type": "code",
   "execution_count": 1,
   "id": "517d36ac",
   "metadata": {},
   "outputs": [],
   "source": [
    "#Tasks to be performed:\n",
    "#- Using pandas import the dataset as dataframe\n",
    "#- Install the mixtend library to use apriory and association rule mining\n",
    "#- Using the apriori algorithm generate a list of item frequently brought together.\n",
    "#- Generate the association rules for the given items from apriori algorithm"
   ]
  },
  {
   "cell_type": "code",
   "execution_count": 5,
   "id": "7aa3a149",
   "metadata": {},
   "outputs": [
    {
     "name": "stdout",
     "output_type": "stream",
     "text": [
      "Requirement already satisfied: apyori in c:\\users\\india\\anaconda3\\lib\\site-packages (1.1.2)\n",
      "Note: you may need to restart the kernel to use updated packages.\n"
     ]
    }
   ],
   "source": [
    "pip install apyori"
   ]
  },
  {
   "cell_type": "code",
   "execution_count": 6,
   "id": "5ed620a0",
   "metadata": {},
   "outputs": [],
   "source": [
    "import pandas as pd\n",
    "import matplotlib.pyplot as plt\n",
    "import numpy as np\n",
    "from apyori import apriori"
   ]
  },
  {
   "cell_type": "code",
   "execution_count": 7,
   "id": "bf37ccd6",
   "metadata": {},
   "outputs": [],
   "source": [
    "retaildf = pd.read_csv(r\"H:\\Intellipaat data science\\Python\\Python for Data Science\\Module 9\\Assignment 5 - Association rule\\Retail _2_.csv\")"
   ]
  },
  {
   "cell_type": "code",
   "execution_count": 8,
   "id": "646a9b29",
   "metadata": {},
   "outputs": [
    {
     "data": {
      "text/html": [
       "<div>\n",
       "<style scoped>\n",
       "    .dataframe tbody tr th:only-of-type {\n",
       "        vertical-align: middle;\n",
       "    }\n",
       "\n",
       "    .dataframe tbody tr th {\n",
       "        vertical-align: top;\n",
       "    }\n",
       "\n",
       "    .dataframe thead th {\n",
       "        text-align: right;\n",
       "    }\n",
       "</style>\n",
       "<table border=\"1\" class=\"dataframe\">\n",
       "  <thead>\n",
       "    <tr style=\"text-align: right;\">\n",
       "      <th></th>\n",
       "      <th>Unnamed: 0</th>\n",
       "      <th>Unnamed: 1</th>\n",
       "      <th>Unnamed: 2</th>\n",
       "      <th>Unnamed: 3</th>\n",
       "      <th>Unnamed: 4</th>\n",
       "      <th>Unnamed: 5</th>\n",
       "    </tr>\n",
       "  </thead>\n",
       "  <tbody>\n",
       "    <tr>\n",
       "      <th>0</th>\n",
       "      <td>Transactions from the Database</td>\n",
       "      <td>NaN</td>\n",
       "      <td>NaN</td>\n",
       "      <td>#Transactions in which\\n the item is bought</td>\n",
       "      <td>Support</td>\n",
       "      <td>NaN</td>\n",
       "    </tr>\n",
       "    <tr>\n",
       "      <th>1</th>\n",
       "      <td>1 : { Pencils, Markers, Highlighters, Papers}</td>\n",
       "      <td>NaN</td>\n",
       "      <td>Pencils</td>\n",
       "      <td>2</td>\n",
       "      <td>0.2</td>\n",
       "      <td>NaN</td>\n",
       "    </tr>\n",
       "    <tr>\n",
       "      <th>2</th>\n",
       "      <td>2 : {Markers, Erasers}</td>\n",
       "      <td>NaN</td>\n",
       "      <td>Markers</td>\n",
       "      <td>6</td>\n",
       "      <td>0.6</td>\n",
       "      <td>NaN</td>\n",
       "    </tr>\n",
       "    <tr>\n",
       "      <th>3</th>\n",
       "      <td>3 : {Stapler Pins, Papers, Erasers, Card Holde...</td>\n",
       "      <td>NaN</td>\n",
       "      <td>Highlighters</td>\n",
       "      <td>3</td>\n",
       "      <td>0.3</td>\n",
       "      <td>NaN</td>\n",
       "    </tr>\n",
       "    <tr>\n",
       "      <th>4</th>\n",
       "      <td>4 : {Papers, Erasers, Cad Holders}</td>\n",
       "      <td>NaN</td>\n",
       "      <td>Papers</td>\n",
       "      <td>4</td>\n",
       "      <td>0.4</td>\n",
       "      <td>NaN</td>\n",
       "    </tr>\n",
       "  </tbody>\n",
       "</table>\n",
       "</div>"
      ],
      "text/plain": [
       "                                          Unnamed: 0  Unnamed: 1  \\\n",
       "0                     Transactions from the Database         NaN   \n",
       "1      1 : { Pencils, Markers, Highlighters, Papers}         NaN   \n",
       "2                             2 : {Markers, Erasers}         NaN   \n",
       "3  3 : {Stapler Pins, Papers, Erasers, Card Holde...         NaN   \n",
       "4                 4 : {Papers, Erasers, Cad Holders}         NaN   \n",
       "\n",
       "     Unnamed: 2                                   Unnamed: 3 Unnamed: 4  \\\n",
       "0           NaN  #Transactions in which\\n the item is bought    Support   \n",
       "1       Pencils                                            2        0.2   \n",
       "2       Markers                                            6        0.6   \n",
       "3  Highlighters                                            3        0.3   \n",
       "4        Papers                                            4        0.4   \n",
       "\n",
       "  Unnamed: 5  \n",
       "0        NaN  \n",
       "1        NaN  \n",
       "2        NaN  \n",
       "3        NaN  \n",
       "4        NaN  "
      ]
     },
     "execution_count": 8,
     "metadata": {},
     "output_type": "execute_result"
    }
   ],
   "source": [
    "retaildf.head()"
   ]
  },
  {
   "cell_type": "code",
   "execution_count": 9,
   "id": "ae9bbe3a",
   "metadata": {},
   "outputs": [
    {
     "name": "stdout",
     "output_type": "stream",
     "text": [
      "Requirement already satisfied: mlxtend in c:\\users\\india\\anaconda3\\lib\\site-packages (0.19.0)\n",
      "Requirement already satisfied: scipy>=1.2.1 in c:\\users\\india\\anaconda3\\lib\\site-packages (from mlxtend) (1.4.1)\n",
      "Requirement already satisfied: pandas>=0.24.2 in c:\\users\\india\\anaconda3\\lib\\site-packages (from mlxtend) (1.2.4)\n",
      "Requirement already satisfied: setuptools in c:\\users\\india\\anaconda3\\lib\\site-packages (from mlxtend) (52.0.0.post20210125)\n",
      "Requirement already satisfied: matplotlib>=3.0.0 in c:\\users\\india\\anaconda3\\lib\\site-packages (from mlxtend) (3.3.4)\n",
      "Requirement already satisfied: scikit-learn>=0.20.3 in c:\\users\\india\\anaconda3\\lib\\site-packages (from mlxtend) (0.24.1)\n",
      "Requirement already satisfied: numpy>=1.16.2 in c:\\users\\india\\anaconda3\\lib\\site-packages (from mlxtend) (1.20.1)\n",
      "Requirement already satisfied: joblib>=0.13.2 in c:\\users\\india\\anaconda3\\lib\\site-packages (from mlxtend) (1.0.1)\n",
      "Requirement already satisfied: pyparsing!=2.0.4,!=2.1.2,!=2.1.6,>=2.0.3 in c:\\users\\india\\anaconda3\\lib\\site-packages (from matplotlib>=3.0.0->mlxtend) (2.4.7)\n",
      "Requirement already satisfied: pillow>=6.2.0 in c:\\users\\india\\anaconda3\\lib\\site-packages (from matplotlib>=3.0.0->mlxtend) (8.2.0)\n",
      "Requirement already satisfied: cycler>=0.10 in c:\\users\\india\\anaconda3\\lib\\site-packages (from matplotlib>=3.0.0->mlxtend) (0.10.0)\n",
      "Requirement already satisfied: kiwisolver>=1.0.1 in c:\\users\\india\\anaconda3\\lib\\site-packages (from matplotlib>=3.0.0->mlxtend) (1.3.1)\n",
      "Requirement already satisfied: python-dateutil>=2.1 in c:\\users\\india\\anaconda3\\lib\\site-packages (from matplotlib>=3.0.0->mlxtend) (2.8.1)\n",
      "Requirement already satisfied: six in c:\\users\\india\\anaconda3\\lib\\site-packages (from cycler>=0.10->matplotlib>=3.0.0->mlxtend) (1.15.0)\n",
      "Requirement already satisfied: pytz>=2017.3 in c:\\users\\india\\anaconda3\\lib\\site-packages (from pandas>=0.24.2->mlxtend) (2021.1)\n",
      "Requirement already satisfied: threadpoolctl>=2.0.0 in c:\\users\\india\\anaconda3\\lib\\site-packages (from scikit-learn>=0.20.3->mlxtend) (2.1.0)\n",
      "Note: you may need to restart the kernel to use updated packages.\n"
     ]
    }
   ],
   "source": [
    "pip install mlxtend"
   ]
  },
  {
   "cell_type": "code",
   "execution_count": 13,
   "id": "2206f8be",
   "metadata": {},
   "outputs": [
    {
     "data": {
      "text/plain": [
       "(18, 6)"
      ]
     },
     "execution_count": 13,
     "metadata": {},
     "output_type": "execute_result"
    }
   ],
   "source": [
    "retaildf.shape"
   ]
  },
  {
   "cell_type": "code",
   "execution_count": 15,
   "id": "650bd356",
   "metadata": {},
   "outputs": [],
   "source": [
    "records = []\n",
    "for i in range(0, 18):\n",
    "    records.append([str(retaildf.values[i,j]) for j in range(0,6)])"
   ]
  },
  {
   "cell_type": "code",
   "execution_count": 16,
   "id": "aedc4bb0",
   "metadata": {},
   "outputs": [
    {
     "data": {
      "text/plain": [
       "['1 : { Pencils, Markers, Highlighters, Papers}',\n",
       " 'nan',\n",
       " 'Pencils',\n",
       " '2',\n",
       " '0.2',\n",
       " 'nan']"
      ]
     },
     "execution_count": 16,
     "metadata": {},
     "output_type": "execute_result"
    }
   ],
   "source": [
    "records[1]"
   ]
  },
  {
   "cell_type": "code",
   "execution_count": 17,
   "id": "452c3854",
   "metadata": {},
   "outputs": [],
   "source": [
    "association_rules = apriori(records, min_support = 0.0045, min_confidence=0.2, min_lift =3, min_length=2)\n",
    "association_results = list(association_rules)"
   ]
  },
  {
   "cell_type": "code",
   "execution_count": 18,
   "id": "72c9bb42",
   "metadata": {},
   "outputs": [
    {
     "name": "stdout",
     "output_type": "stream",
     "text": [
      "224\n"
     ]
    }
   ],
   "source": [
    "print(len(association_results))"
   ]
  },
  {
   "cell_type": "code",
   "execution_count": 19,
   "id": "c288e9dc",
   "metadata": {},
   "outputs": [
    {
     "name": "stdout",
     "output_type": "stream",
     "text": [
      "RelationRecord(items=frozenset({'#Transactions in which\\n the item is bought', 'Construct item-sets with items that satisfy minimum support'}), support=0.05555555555555555, ordered_statistics=[OrderedStatistic(items_base=frozenset({'#Transactions in which\\n the item is bought'}), items_add=frozenset({'Construct item-sets with items that satisfy minimum support'}), confidence=0.5, lift=9.0), OrderedStatistic(items_base=frozenset({'Construct item-sets with items that satisfy minimum support'}), items_add=frozenset({'#Transactions in which\\n the item is bought'}), confidence=1.0, lift=9.0)])\n"
     ]
    }
   ],
   "source": [
    "print(association_results[0])"
   ]
  },
  {
   "cell_type": "code",
   "execution_count": 20,
   "id": "d19deec1",
   "metadata": {},
   "outputs": [
    {
     "name": "stdout",
     "output_type": "stream",
     "text": [
      "RelationRecord(items=frozenset({'Support', '#Transactions in which\\n the item is bought'}), support=0.05555555555555555, ordered_statistics=[OrderedStatistic(items_base=frozenset({'#Transactions in which\\n the item is bought'}), items_add=frozenset({'Support'}), confidence=0.5, lift=9.0), OrderedStatistic(items_base=frozenset({'Support'}), items_add=frozenset({'#Transactions in which\\n the item is bought'}), confidence=1.0, lift=9.0)])\n"
     ]
    }
   ],
   "source": [
    "print(association_results[1])"
   ]
  },
  {
   "cell_type": "code",
   "execution_count": 21,
   "id": "bfb17448",
   "metadata": {},
   "outputs": [],
   "source": [
    "association_rules = apriori(records, min_support = 00.010, min_confidence=0.5, min_lift =2)\n",
    "association_results = list(association_rules)"
   ]
  },
  {
   "cell_type": "code",
   "execution_count": 22,
   "id": "67c4282c",
   "metadata": {},
   "outputs": [
    {
     "name": "stdout",
     "output_type": "stream",
     "text": [
      "224\n"
     ]
    }
   ],
   "source": [
    "print(len(association_results))"
   ]
  },
  {
   "cell_type": "code",
   "execution_count": 23,
   "id": "3a654943",
   "metadata": {},
   "outputs": [
    {
     "name": "stdout",
     "output_type": "stream",
     "text": [
      "RelationRecord(items=frozenset({'#Transactions in which\\n the item is bought', 'Construct item-sets with items that satisfy minimum support'}), support=0.05555555555555555, ordered_statistics=[OrderedStatistic(items_base=frozenset({'#Transactions in which\\n the item is bought'}), items_add=frozenset({'Construct item-sets with items that satisfy minimum support'}), confidence=0.5, lift=9.0), OrderedStatistic(items_base=frozenset({'Construct item-sets with items that satisfy minimum support'}), items_add=frozenset({'#Transactions in which\\n the item is bought'}), confidence=1.0, lift=9.0)])\n"
     ]
    }
   ],
   "source": [
    "print(association_results[0])"
   ]
  },
  {
   "cell_type": "code",
   "execution_count": 24,
   "id": "711aa532",
   "metadata": {},
   "outputs": [
    {
     "name": "stdout",
     "output_type": "stream",
     "text": [
      "RelationRecord(items=frozenset({'#Transactions in which\\n the item is bought', 'Support\\nP(Markers�Erasers)'}), support=0.05555555555555555, ordered_statistics=[OrderedStatistic(items_base=frozenset({'#Transactions in which\\n the item is bought'}), items_add=frozenset({'Support\\nP(Markers�Erasers)'}), confidence=0.5, lift=9.0), OrderedStatistic(items_base=frozenset({'Support\\nP(Markers�Erasers)'}), items_add=frozenset({'#Transactions in which\\n the item is bought'}), confidence=1.0, lift=9.0)])\n"
     ]
    }
   ],
   "source": [
    "print(association_results[2])"
   ]
  },
  {
   "cell_type": "markdown",
   "id": "6c489065",
   "metadata": {},
   "source": [
    "# end of assignment"
   ]
  },
  {
   "cell_type": "code",
   "execution_count": null,
   "id": "fe84af21",
   "metadata": {},
   "outputs": [],
   "source": []
  }
 ],
 "metadata": {
  "kernelspec": {
   "display_name": "Python 3",
   "language": "python",
   "name": "python3"
  },
  "language_info": {
   "codemirror_mode": {
    "name": "ipython",
    "version": 3
   },
   "file_extension": ".py",
   "mimetype": "text/x-python",
   "name": "python",
   "nbconvert_exporter": "python",
   "pygments_lexer": "ipython3",
   "version": "3.8.8"
  }
 },
 "nbformat": 4,
 "nbformat_minor": 5
}
