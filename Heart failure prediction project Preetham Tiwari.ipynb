{
 "cells": [
  {
   "cell_type": "code",
   "execution_count": 1,
   "id": "9bdd27f5",
   "metadata": {},
   "outputs": [],
   "source": [
    "import pandas as pd\n",
    "import numpy as np\n",
    "\n",
    "import seaborn as sns\n",
    "import matplotlib.pyplot as plt\n",
    "%matplotlib inline"
   ]
  },
  {
   "cell_type": "code",
   "execution_count": 2,
   "id": "4eec342b",
   "metadata": {},
   "outputs": [],
   "source": [
    "data = pd.read_csv(r\"H:\\Intellipaat data science\\Projects\\Heart failure prediction project\\heart_failure_clinical_records_dataset.csv\")"
   ]
  },
  {
   "cell_type": "code",
   "execution_count": 3,
   "id": "ac71dff1",
   "metadata": {},
   "outputs": [
    {
     "data": {
      "text/html": [
       "<div>\n",
       "<style scoped>\n",
       "    .dataframe tbody tr th:only-of-type {\n",
       "        vertical-align: middle;\n",
       "    }\n",
       "\n",
       "    .dataframe tbody tr th {\n",
       "        vertical-align: top;\n",
       "    }\n",
       "\n",
       "    .dataframe thead th {\n",
       "        text-align: right;\n",
       "    }\n",
       "</style>\n",
       "<table border=\"1\" class=\"dataframe\">\n",
       "  <thead>\n",
       "    <tr style=\"text-align: right;\">\n",
       "      <th></th>\n",
       "      <th>age</th>\n",
       "      <th>anaemia</th>\n",
       "      <th>creatinine_phosphokinase</th>\n",
       "      <th>diabetes</th>\n",
       "      <th>ejection_fraction</th>\n",
       "      <th>high_blood_pressure</th>\n",
       "      <th>platelets</th>\n",
       "      <th>serum_creatinine</th>\n",
       "      <th>serum_sodium</th>\n",
       "      <th>sex</th>\n",
       "      <th>smoking</th>\n",
       "      <th>time</th>\n",
       "      <th>DEATH_EVENT</th>\n",
       "    </tr>\n",
       "  </thead>\n",
       "  <tbody>\n",
       "    <tr>\n",
       "      <th>0</th>\n",
       "      <td>75.0</td>\n",
       "      <td>0</td>\n",
       "      <td>582</td>\n",
       "      <td>0</td>\n",
       "      <td>20</td>\n",
       "      <td>1</td>\n",
       "      <td>265000.00</td>\n",
       "      <td>1.9</td>\n",
       "      <td>130</td>\n",
       "      <td>1</td>\n",
       "      <td>0</td>\n",
       "      <td>4</td>\n",
       "      <td>1</td>\n",
       "    </tr>\n",
       "    <tr>\n",
       "      <th>1</th>\n",
       "      <td>55.0</td>\n",
       "      <td>0</td>\n",
       "      <td>7861</td>\n",
       "      <td>0</td>\n",
       "      <td>38</td>\n",
       "      <td>0</td>\n",
       "      <td>263358.03</td>\n",
       "      <td>1.1</td>\n",
       "      <td>136</td>\n",
       "      <td>1</td>\n",
       "      <td>0</td>\n",
       "      <td>6</td>\n",
       "      <td>1</td>\n",
       "    </tr>\n",
       "    <tr>\n",
       "      <th>2</th>\n",
       "      <td>65.0</td>\n",
       "      <td>0</td>\n",
       "      <td>146</td>\n",
       "      <td>0</td>\n",
       "      <td>20</td>\n",
       "      <td>0</td>\n",
       "      <td>162000.00</td>\n",
       "      <td>1.3</td>\n",
       "      <td>129</td>\n",
       "      <td>1</td>\n",
       "      <td>1</td>\n",
       "      <td>7</td>\n",
       "      <td>1</td>\n",
       "    </tr>\n",
       "    <tr>\n",
       "      <th>3</th>\n",
       "      <td>50.0</td>\n",
       "      <td>1</td>\n",
       "      <td>111</td>\n",
       "      <td>0</td>\n",
       "      <td>20</td>\n",
       "      <td>0</td>\n",
       "      <td>210000.00</td>\n",
       "      <td>1.9</td>\n",
       "      <td>137</td>\n",
       "      <td>1</td>\n",
       "      <td>0</td>\n",
       "      <td>7</td>\n",
       "      <td>1</td>\n",
       "    </tr>\n",
       "    <tr>\n",
       "      <th>4</th>\n",
       "      <td>65.0</td>\n",
       "      <td>1</td>\n",
       "      <td>160</td>\n",
       "      <td>1</td>\n",
       "      <td>20</td>\n",
       "      <td>0</td>\n",
       "      <td>327000.00</td>\n",
       "      <td>2.7</td>\n",
       "      <td>116</td>\n",
       "      <td>0</td>\n",
       "      <td>0</td>\n",
       "      <td>8</td>\n",
       "      <td>1</td>\n",
       "    </tr>\n",
       "  </tbody>\n",
       "</table>\n",
       "</div>"
      ],
      "text/plain": [
       "    age  anaemia  creatinine_phosphokinase  diabetes  ejection_fraction  \\\n",
       "0  75.0        0                       582         0                 20   \n",
       "1  55.0        0                      7861         0                 38   \n",
       "2  65.0        0                       146         0                 20   \n",
       "3  50.0        1                       111         0                 20   \n",
       "4  65.0        1                       160         1                 20   \n",
       "\n",
       "   high_blood_pressure  platelets  serum_creatinine  serum_sodium  sex  \\\n",
       "0                    1  265000.00               1.9           130    1   \n",
       "1                    0  263358.03               1.1           136    1   \n",
       "2                    0  162000.00               1.3           129    1   \n",
       "3                    0  210000.00               1.9           137    1   \n",
       "4                    0  327000.00               2.7           116    0   \n",
       "\n",
       "   smoking  time  DEATH_EVENT  \n",
       "0        0     4            1  \n",
       "1        0     6            1  \n",
       "2        1     7            1  \n",
       "3        0     7            1  \n",
       "4        0     8            1  "
      ]
     },
     "execution_count": 3,
     "metadata": {},
     "output_type": "execute_result"
    }
   ],
   "source": [
    "data.head()"
   ]
  },
  {
   "cell_type": "code",
   "execution_count": 4,
   "id": "14815d2c",
   "metadata": {},
   "outputs": [
    {
     "name": "stdout",
     "output_type": "stream",
     "text": [
      "Shape of the data (299, 13)\n"
     ]
    }
   ],
   "source": [
    "print(\"Shape of the data\", data.shape)"
   ]
  },
  {
   "cell_type": "code",
   "execution_count": 5,
   "id": "bc599b5e",
   "metadata": {},
   "outputs": [
    {
     "name": "stdout",
     "output_type": "stream",
     "text": [
      "Information about the data:-\n",
      "<class 'pandas.core.frame.DataFrame'>\n",
      "RangeIndex: 299 entries, 0 to 298\n",
      "Data columns (total 13 columns):\n",
      " #   Column                    Non-Null Count  Dtype  \n",
      "---  ------                    --------------  -----  \n",
      " 0   age                       299 non-null    float64\n",
      " 1   anaemia                   299 non-null    int64  \n",
      " 2   creatinine_phosphokinase  299 non-null    int64  \n",
      " 3   diabetes                  299 non-null    int64  \n",
      " 4   ejection_fraction         299 non-null    int64  \n",
      " 5   high_blood_pressure       299 non-null    int64  \n",
      " 6   platelets                 299 non-null    float64\n",
      " 7   serum_creatinine          299 non-null    float64\n",
      " 8   serum_sodium              299 non-null    int64  \n",
      " 9   sex                       299 non-null    int64  \n",
      " 10  smoking                   299 non-null    int64  \n",
      " 11  time                      299 non-null    int64  \n",
      " 12  DEATH_EVENT               299 non-null    int64  \n",
      "dtypes: float64(3), int64(10)\n",
      "memory usage: 30.5 KB\n"
     ]
    }
   ],
   "source": [
    "print(\"Information about the data:-\")\n",
    "data.info()"
   ]
  },
  {
   "cell_type": "code",
   "execution_count": 6,
   "id": "c2c90775",
   "metadata": {},
   "outputs": [
    {
     "name": "stdout",
     "output_type": "stream",
     "text": [
      "describing the data:-\n"
     ]
    },
    {
     "data": {
      "text/html": [
       "<div>\n",
       "<style scoped>\n",
       "    .dataframe tbody tr th:only-of-type {\n",
       "        vertical-align: middle;\n",
       "    }\n",
       "\n",
       "    .dataframe tbody tr th {\n",
       "        vertical-align: top;\n",
       "    }\n",
       "\n",
       "    .dataframe thead th {\n",
       "        text-align: right;\n",
       "    }\n",
       "</style>\n",
       "<table border=\"1\" class=\"dataframe\">\n",
       "  <thead>\n",
       "    <tr style=\"text-align: right;\">\n",
       "      <th></th>\n",
       "      <th>age</th>\n",
       "      <th>anaemia</th>\n",
       "      <th>creatinine_phosphokinase</th>\n",
       "      <th>diabetes</th>\n",
       "      <th>ejection_fraction</th>\n",
       "      <th>high_blood_pressure</th>\n",
       "      <th>platelets</th>\n",
       "      <th>serum_creatinine</th>\n",
       "      <th>serum_sodium</th>\n",
       "      <th>sex</th>\n",
       "      <th>smoking</th>\n",
       "      <th>time</th>\n",
       "      <th>DEATH_EVENT</th>\n",
       "    </tr>\n",
       "  </thead>\n",
       "  <tbody>\n",
       "    <tr>\n",
       "      <th>count</th>\n",
       "      <td>299.000000</td>\n",
       "      <td>299.000000</td>\n",
       "      <td>299.000000</td>\n",
       "      <td>299.000000</td>\n",
       "      <td>299.000000</td>\n",
       "      <td>299.000000</td>\n",
       "      <td>299.000000</td>\n",
       "      <td>299.00000</td>\n",
       "      <td>299.000000</td>\n",
       "      <td>299.000000</td>\n",
       "      <td>299.00000</td>\n",
       "      <td>299.000000</td>\n",
       "      <td>299.00000</td>\n",
       "    </tr>\n",
       "    <tr>\n",
       "      <th>mean</th>\n",
       "      <td>60.833893</td>\n",
       "      <td>0.431438</td>\n",
       "      <td>581.839465</td>\n",
       "      <td>0.418060</td>\n",
       "      <td>38.083612</td>\n",
       "      <td>0.351171</td>\n",
       "      <td>263358.029264</td>\n",
       "      <td>1.39388</td>\n",
       "      <td>136.625418</td>\n",
       "      <td>0.648829</td>\n",
       "      <td>0.32107</td>\n",
       "      <td>130.260870</td>\n",
       "      <td>0.32107</td>\n",
       "    </tr>\n",
       "    <tr>\n",
       "      <th>std</th>\n",
       "      <td>11.894809</td>\n",
       "      <td>0.496107</td>\n",
       "      <td>970.287881</td>\n",
       "      <td>0.494067</td>\n",
       "      <td>11.834841</td>\n",
       "      <td>0.478136</td>\n",
       "      <td>97804.236869</td>\n",
       "      <td>1.03451</td>\n",
       "      <td>4.412477</td>\n",
       "      <td>0.478136</td>\n",
       "      <td>0.46767</td>\n",
       "      <td>77.614208</td>\n",
       "      <td>0.46767</td>\n",
       "    </tr>\n",
       "    <tr>\n",
       "      <th>min</th>\n",
       "      <td>40.000000</td>\n",
       "      <td>0.000000</td>\n",
       "      <td>23.000000</td>\n",
       "      <td>0.000000</td>\n",
       "      <td>14.000000</td>\n",
       "      <td>0.000000</td>\n",
       "      <td>25100.000000</td>\n",
       "      <td>0.50000</td>\n",
       "      <td>113.000000</td>\n",
       "      <td>0.000000</td>\n",
       "      <td>0.00000</td>\n",
       "      <td>4.000000</td>\n",
       "      <td>0.00000</td>\n",
       "    </tr>\n",
       "    <tr>\n",
       "      <th>25%</th>\n",
       "      <td>51.000000</td>\n",
       "      <td>0.000000</td>\n",
       "      <td>116.500000</td>\n",
       "      <td>0.000000</td>\n",
       "      <td>30.000000</td>\n",
       "      <td>0.000000</td>\n",
       "      <td>212500.000000</td>\n",
       "      <td>0.90000</td>\n",
       "      <td>134.000000</td>\n",
       "      <td>0.000000</td>\n",
       "      <td>0.00000</td>\n",
       "      <td>73.000000</td>\n",
       "      <td>0.00000</td>\n",
       "    </tr>\n",
       "    <tr>\n",
       "      <th>50%</th>\n",
       "      <td>60.000000</td>\n",
       "      <td>0.000000</td>\n",
       "      <td>250.000000</td>\n",
       "      <td>0.000000</td>\n",
       "      <td>38.000000</td>\n",
       "      <td>0.000000</td>\n",
       "      <td>262000.000000</td>\n",
       "      <td>1.10000</td>\n",
       "      <td>137.000000</td>\n",
       "      <td>1.000000</td>\n",
       "      <td>0.00000</td>\n",
       "      <td>115.000000</td>\n",
       "      <td>0.00000</td>\n",
       "    </tr>\n",
       "    <tr>\n",
       "      <th>75%</th>\n",
       "      <td>70.000000</td>\n",
       "      <td>1.000000</td>\n",
       "      <td>582.000000</td>\n",
       "      <td>1.000000</td>\n",
       "      <td>45.000000</td>\n",
       "      <td>1.000000</td>\n",
       "      <td>303500.000000</td>\n",
       "      <td>1.40000</td>\n",
       "      <td>140.000000</td>\n",
       "      <td>1.000000</td>\n",
       "      <td>1.00000</td>\n",
       "      <td>203.000000</td>\n",
       "      <td>1.00000</td>\n",
       "    </tr>\n",
       "    <tr>\n",
       "      <th>max</th>\n",
       "      <td>95.000000</td>\n",
       "      <td>1.000000</td>\n",
       "      <td>7861.000000</td>\n",
       "      <td>1.000000</td>\n",
       "      <td>80.000000</td>\n",
       "      <td>1.000000</td>\n",
       "      <td>850000.000000</td>\n",
       "      <td>9.40000</td>\n",
       "      <td>148.000000</td>\n",
       "      <td>1.000000</td>\n",
       "      <td>1.00000</td>\n",
       "      <td>285.000000</td>\n",
       "      <td>1.00000</td>\n",
       "    </tr>\n",
       "  </tbody>\n",
       "</table>\n",
       "</div>"
      ],
      "text/plain": [
       "              age     anaemia  creatinine_phosphokinase    diabetes  \\\n",
       "count  299.000000  299.000000                299.000000  299.000000   \n",
       "mean    60.833893    0.431438                581.839465    0.418060   \n",
       "std     11.894809    0.496107                970.287881    0.494067   \n",
       "min     40.000000    0.000000                 23.000000    0.000000   \n",
       "25%     51.000000    0.000000                116.500000    0.000000   \n",
       "50%     60.000000    0.000000                250.000000    0.000000   \n",
       "75%     70.000000    1.000000                582.000000    1.000000   \n",
       "max     95.000000    1.000000               7861.000000    1.000000   \n",
       "\n",
       "       ejection_fraction  high_blood_pressure      platelets  \\\n",
       "count         299.000000           299.000000     299.000000   \n",
       "mean           38.083612             0.351171  263358.029264   \n",
       "std            11.834841             0.478136   97804.236869   \n",
       "min            14.000000             0.000000   25100.000000   \n",
       "25%            30.000000             0.000000  212500.000000   \n",
       "50%            38.000000             0.000000  262000.000000   \n",
       "75%            45.000000             1.000000  303500.000000   \n",
       "max            80.000000             1.000000  850000.000000   \n",
       "\n",
       "       serum_creatinine  serum_sodium         sex    smoking        time  \\\n",
       "count         299.00000    299.000000  299.000000  299.00000  299.000000   \n",
       "mean            1.39388    136.625418    0.648829    0.32107  130.260870   \n",
       "std             1.03451      4.412477    0.478136    0.46767   77.614208   \n",
       "min             0.50000    113.000000    0.000000    0.00000    4.000000   \n",
       "25%             0.90000    134.000000    0.000000    0.00000   73.000000   \n",
       "50%             1.10000    137.000000    1.000000    0.00000  115.000000   \n",
       "75%             1.40000    140.000000    1.000000    1.00000  203.000000   \n",
       "max             9.40000    148.000000    1.000000    1.00000  285.000000   \n",
       "\n",
       "       DEATH_EVENT  \n",
       "count    299.00000  \n",
       "mean       0.32107  \n",
       "std        0.46767  \n",
       "min        0.00000  \n",
       "25%        0.00000  \n",
       "50%        0.00000  \n",
       "75%        1.00000  \n",
       "max        1.00000  "
      ]
     },
     "execution_count": 6,
     "metadata": {},
     "output_type": "execute_result"
    }
   ],
   "source": [
    "print(\"describing the data:-\")\n",
    "data.describe()"
   ]
  },
  {
   "cell_type": "code",
   "execution_count": 7,
   "id": "1caea102",
   "metadata": {},
   "outputs": [
    {
     "name": "stdout",
     "output_type": "stream",
     "text": [
      "No.of NULL values:-\n"
     ]
    },
    {
     "data": {
      "text/plain": [
       "age                         0\n",
       "anaemia                     0\n",
       "creatinine_phosphokinase    0\n",
       "diabetes                    0\n",
       "ejection_fraction           0\n",
       "high_blood_pressure         0\n",
       "platelets                   0\n",
       "serum_creatinine            0\n",
       "serum_sodium                0\n",
       "sex                         0\n",
       "smoking                     0\n",
       "time                        0\n",
       "DEATH_EVENT                 0\n",
       "dtype: int64"
      ]
     },
     "execution_count": 7,
     "metadata": {},
     "output_type": "execute_result"
    }
   ],
   "source": [
    "print(f\"No.of NULL values:-\")\n",
    "data.isnull().sum()"
   ]
  },
  {
   "cell_type": "markdown",
   "id": "43b397ad",
   "metadata": {},
   "source": [
    "## Exploratory Data Analysis"
   ]
  },
  {
   "cell_type": "code",
   "execution_count": 8,
   "id": "acccac3c",
   "metadata": {},
   "outputs": [
    {
     "name": "stdout",
     "output_type": "stream",
     "text": [
      "Total No. of living cases :- 203\n",
      "Total No. of Death cases :- 96\n"
     ]
    },
    {
     "data": {
      "image/png": "[encoded data removed]",
      "text/plain": [
       "<Figure size 432x288 with 1 Axes>"
      ]
     },
     "metadata": {},
     "output_type": "display_data"
    }
   ],
   "source": [
    "len_live = len(data[\"DEATH_EVENT\"][data.DEATH_EVENT == 0])\n",
    "len_death = len(data[\"DEATH_EVENT\"][data.DEATH_EVENT == 1])\n",
    "\n",
    "arr = np.array([len_live, len_death])\n",
    "labels = ['LIVING','DEAD']\n",
    "print(\"Total No. of living cases :-\", len_live)\n",
    "print(\"Total No. of Death cases :-\", len_death)\n",
    "\n",
    "plt.pie(arr, labels=labels, explode = [0.2,0.0], shadow=True)\n",
    "plt.show()"
   ]
  },
  {
   "cell_type": "code",
   "execution_count": 9,
   "id": "77628eed",
   "metadata": {},
   "outputs": [
    {
     "name": "stderr",
     "output_type": "stream",
     "text": [
      "C:\\Users\\india\\anaconda3\\lib\\site-packages\\seaborn\\distributions.py:2557: FutureWarning: `distplot` is a deprecated function and will be removed in a future version. Please adapt your code to use either `displot` (a figure-level function with similar flexibility) or `histplot` (an axes-level function for histograms).\n",
      "  warnings.warn(msg, FutureWarning)\n"
     ]
    },
    {
     "data": {
      "image/png": "[encoded data removed]",
      "text/plain": [
       "<Figure size 432x288 with 1 Axes>"
      ]
     },
     "metadata": {
      "needs_background": "light"
     },
     "output_type": "display_data"
    }
   ],
   "source": [
    "sns.distplot(data[\"age\"])\n",
    "plt.show()"
   ]
  },
  {
   "cell_type": "markdown",
   "id": "40a2ba7a",
   "metadata": {},
   "source": [
    "### Checking for the number of living and dead cases in people over 50 years of age."
   ]
  },
  {
   "cell_type": "code",
   "execution_count": 10,
   "id": "6b18a3bf",
   "metadata": {},
   "outputs": [
    {
     "name": "stdout",
     "output_type": "stream",
     "text": [
      "Total no of cases of dead 85\n",
      "Total no of  no dead cases 167\n"
     ]
    },
    {
     "data": {
      "image/png": "[encoded data removed]",
      "text/plain": [
       "<Figure size 432x288 with 1 Axes>"
      ]
     },
     "metadata": {},
     "output_type": "display_data"
    }
   ],
   "source": [
    "age_above_50_not_dead = data['DEATH_EVENT'][data.age >= 50][data.DEATH_EVENT==0]\n",
    "age_above_50_dead = data['DEATH_EVENT'][data.age>=50][data.DEATH_EVENT==1]\n",
    "\n",
    "len_dead = len(age_above_50_dead)\n",
    "len_not_dead = len(age_above_50_not_dead)\n",
    "\n",
    "arr1 = [len_dead, len_not_dead]\n",
    "labels = ['DEAD','NOT DEAD']\n",
    "\n",
    "print(\"Total no of cases of dead\", len_dead)\n",
    "print(\"Total no of  no dead cases\", len_not_dead)\n",
    "\n",
    "plt.pie(arr1, labels=labels, explode = [0.2,0.0], shadow=True)\n",
    "plt.show()"
   ]
  },
  {
   "cell_type": "code",
   "execution_count": 11,
   "id": "d6b4e6d9",
   "metadata": {},
   "outputs": [
    {
     "data": {
      "image/png": "[encoded data removed]",
      "text/plain": [
       "<Figure size 432x288 with 1 Axes>"
      ]
     },
     "metadata": {},
     "output_type": "display_data"
    }
   ],
   "source": [
    "###Checking the number of dead and not dead cases for people with diabetes\n",
    "patient_nhave_diabetes_0 = data['DEATH_EVENT'][data.diabetes == 0][data.DEATH_EVENT == 0]\n",
    "patient_have_diabetes_1 = data['DEATH_EVENT'][data.diabetes == 1][data.DEATH_EVENT == 1]\n",
    "\n",
    "len_d_dead = len(patient_have_diabetes_1)\n",
    "len_d_alive = len(patient_nhave_diabetes_0)\n",
    "\n",
    "arr2 = [len_d_dead, len_d_alive]\n",
    "labels = ['Died with diabetes', \"Did not die with diabetes\"]\n",
    "plt.pie(arr2, labels=labels, explode = [0.2,0.0], shadow=True)\n",
    "plt.show()"
   ]
  },
  {
   "cell_type": "code",
   "execution_count": 12,
   "id": "10a62d9d",
   "metadata": {},
   "outputs": [
    {
     "data": {
      "text/plain": [
       "<AxesSubplot:>"
      ]
     },
     "execution_count": 12,
     "metadata": {},
     "output_type": "execute_result"
    },
    {
     "data": {
      "image/png": "[encoded data removed]",
      "text/plain": [
       "<Figure size 1080x1080 with 2 Axes>"
      ]
     },
     "metadata": {
      "needs_background": "light"
     },
     "output_type": "display_data"
    }
   ],
   "source": [
    "corr = data.corr()\n",
    "plt.subplots(figsize = (15,15))\n",
    "sns.heatmap(corr, annot=True)"
   ]
  },
  {
   "cell_type": "code",
   "execution_count": 13,
   "id": "9e3808f2",
   "metadata": {},
   "outputs": [
    {
     "data": {
      "text/html": [
       "<style  type=\"text/css\" >\n",
       "#T_78b86_row0_col0,#T_78b86_row1_col1,#T_78b86_row2_col2,#T_78b86_row3_col3,#T_78b86_row4_col4,#T_78b86_row5_col5,#T_78b86_row6_col6,#T_78b86_row7_col7,#T_78b86_row8_col8,#T_78b86_row9_col9,#T_78b86_row10_col10,#T_78b86_row11_col11,#T_78b86_row12_col12{\n",
       "            background-color:  #b40426;\n",
       "            color:  #f1f1f1;\n",
       "        }#T_78b86_row0_col1,#T_78b86_row4_col0,#T_78b86_row5_col4,#T_78b86_row12_col5{\n",
       "            background-color:  #86a9fc;\n",
       "            color:  #000000;\n",
       "        }#T_78b86_row0_col2{\n",
       "            background-color:  #5673e0;\n",
       "            color:  #000000;\n",
       "        }#T_78b86_row0_col3{\n",
       "            background-color:  #4961d2;\n",
       "            color:  #f1f1f1;\n",
       "        }#T_78b86_row0_col4,#T_78b86_row5_col0{\n",
       "            background-color:  #90b2fe;\n",
       "            color:  #000000;\n",
       "        }#T_78b86_row0_col5{\n",
       "            background-color:  #89acfd;\n",
       "            color:  #000000;\n",
       "        }#T_78b86_row0_col6{\n",
       "            background-color:  #4e68d8;\n",
       "            color:  #000000;\n",
       "        }#T_78b86_row0_col7{\n",
       "            background-color:  #9bbcff;\n",
       "            color:  #000000;\n",
       "        }#T_78b86_row0_col8,#T_78b86_row4_col2,#T_78b86_row6_col1,#T_78b86_row6_col7,#T_78b86_row11_col9{\n",
       "            background-color:  #6180e9;\n",
       "            color:  #000000;\n",
       "        }#T_78b86_row0_col9,#T_78b86_row3_col6,#T_78b86_row5_col1,#T_78b86_row5_col8,#T_78b86_row8_col5{\n",
       "            background-color:  #799cf8;\n",
       "            color:  #000000;\n",
       "        }#T_78b86_row0_col10,#T_78b86_row2_col7,#T_78b86_row7_col2,#T_78b86_row8_col0{\n",
       "            background-color:  #688aef;\n",
       "            color:  #000000;\n",
       "        }#T_78b86_row0_col11,#T_78b86_row1_col5,#T_78b86_row1_col8,#T_78b86_row8_col1,#T_78b86_row10_col0{\n",
       "            background-color:  #7a9df8;\n",
       "            color:  #000000;\n",
       "        }#T_78b86_row0_col12{\n",
       "            background-color:  #dfdbd9;\n",
       "            color:  #000000;\n",
       "        }#T_78b86_row1_col0{\n",
       "            background-color:  #8fb1fe;\n",
       "            color:  #000000;\n",
       "        }#T_78b86_row1_col2,#T_78b86_row2_col1,#T_78b86_row3_col9,#T_78b86_row3_col10,#T_78b86_row8_col7,#T_78b86_row9_col3,#T_78b86_row9_col6,#T_78b86_row11_col0,#T_78b86_row11_col5,#T_78b86_row11_col12,#T_78b86_row12_col4,#T_78b86_row12_col8,#T_78b86_row12_col11{\n",
       "            background-color:  #3b4cc0;\n",
       "            color:  #f1f1f1;\n",
       "        }#T_78b86_row1_col3,#T_78b86_row2_col3,#T_78b86_row5_col3{\n",
       "            background-color:  #6282ea;\n",
       "            color:  #000000;\n",
       "        }#T_78b86_row1_col4,#T_78b86_row9_col0,#T_78b86_row11_col8{\n",
       "            background-color:  #88abfd;\n",
       "            color:  #000000;\n",
       "        }#T_78b86_row1_col6{\n",
       "            background-color:  #506bda;\n",
       "            color:  #000000;\n",
       "        }#T_78b86_row1_col7,#T_78b86_row7_col4{\n",
       "            background-color:  #7b9ff9;\n",
       "            color:  #000000;\n",
       "        }#T_78b86_row1_col9{\n",
       "            background-color:  #4a63d3;\n",
       "            color:  #f1f1f1;\n",
       "        }#T_78b86_row1_col10,#T_78b86_row11_col7{\n",
       "            background-color:  #445acc;\n",
       "            color:  #f1f1f1;\n",
       "        }#T_78b86_row1_col11{\n",
       "            background-color:  #8db0fe;\n",
       "            color:  #000000;\n",
       "        }#T_78b86_row1_col12,#T_78b86_row12_col0{\n",
       "            background-color:  #bcd2f7;\n",
       "            color:  #000000;\n",
       "        }#T_78b86_row2_col0{\n",
       "            background-color:  #5e7de7;\n",
       "            color:  #000000;\n",
       "        }#T_78b86_row2_col4{\n",
       "            background-color:  #7396f5;\n",
       "            color:  #000000;\n",
       "        }#T_78b86_row2_col5,#T_78b86_row7_col10{\n",
       "            background-color:  #5a78e4;\n",
       "            color:  #000000;\n",
       "        }#T_78b86_row2_col6,#T_78b86_row10_col6,#T_78b86_row10_col7,#T_78b86_row12_col3{\n",
       "            background-color:  #6485ec;\n",
       "            color:  #000000;\n",
       "        }#T_78b86_row2_col8,#T_78b86_row12_col2{\n",
       "            background-color:  #80a3fa;\n",
       "            color:  #000000;\n",
       "        }#T_78b86_row2_col9,#T_78b86_row6_col5,#T_78b86_row7_col1{\n",
       "            background-color:  #7da0f9;\n",
       "            color:  #000000;\n",
       "        }#T_78b86_row2_col10,#T_78b86_row4_col3,#T_78b86_row8_col10,#T_78b86_row12_col9{\n",
       "            background-color:  #6384eb;\n",
       "            color:  #000000;\n",
       "        }#T_78b86_row2_col11,#T_78b86_row10_col12{\n",
       "            background-color:  #abc8fd;\n",
       "            color:  #000000;\n",
       "        }#T_78b86_row2_col12{\n",
       "            background-color:  #bbd1f8;\n",
       "            color:  #000000;\n",
       "        }#T_78b86_row3_col0,#T_78b86_row5_col2{\n",
       "            background-color:  #5977e3;\n",
       "            color:  #000000;\n",
       "        }#T_78b86_row3_col1,#T_78b86_row3_col2,#T_78b86_row4_col7,#T_78b86_row11_col2{\n",
       "            background-color:  #6a8bef;\n",
       "            color:  #000000;\n",
       "        }#T_78b86_row3_col4,#T_78b86_row8_col2{\n",
       "            background-color:  #7ea1fa;\n",
       "            color:  #000000;\n",
       "        }#T_78b86_row3_col5,#T_78b86_row5_col6,#T_78b86_row5_col7,#T_78b86_row6_col10{\n",
       "            background-color:  #6b8df0;\n",
       "            color:  #000000;\n",
       "        }#T_78b86_row3_col7,#T_78b86_row10_col5,#T_78b86_row11_col6,#T_78b86_row12_col10{\n",
       "            background-color:  #5f7fe8;\n",
       "            color:  #000000;\n",
       "        }#T_78b86_row3_col8{\n",
       "            background-color:  #5572df;\n",
       "            color:  #000000;\n",
       "        }#T_78b86_row3_col11{\n",
       "            background-color:  #b6cefa;\n",
       "            color:  #000000;\n",
       "        }#T_78b86_row3_col12{\n",
       "            background-color:  #aec9fc;\n",
       "            color:  #000000;\n",
       "        }#T_78b86_row4_col1,#T_78b86_row4_col5{\n",
       "            background-color:  #7699f6;\n",
       "            color:  #000000;\n",
       "        }#T_78b86_row4_col6{\n",
       "            background-color:  #7295f4;\n",
       "            color:  #000000;\n",
       "        }#T_78b86_row4_col8{\n",
       "            background-color:  #a2c1ff;\n",
       "            color:  #000000;\n",
       "        }#T_78b86_row4_col9,#T_78b86_row10_col3{\n",
       "            background-color:  #3d50c3;\n",
       "            color:  #f1f1f1;\n",
       "        }#T_78b86_row4_col10,#T_78b86_row10_col1,#T_78b86_row12_col6{\n",
       "            background-color:  #4f69d9;\n",
       "            color:  #000000;\n",
       "        }#T_78b86_row4_col11{\n",
       "            background-color:  #b7cff9;\n",
       "            color:  #000000;\n",
       "        }#T_78b86_row4_col12{\n",
       "            background-color:  #7093f3;\n",
       "            color:  #000000;\n",
       "        }#T_78b86_row5_col9{\n",
       "            background-color:  #485fd1;\n",
       "            color:  #f1f1f1;\n",
       "        }#T_78b86_row5_col10,#T_78b86_row9_col1{\n",
       "            background-color:  #536edd;\n",
       "            color:  #000000;\n",
       "        }#T_78b86_row5_col11,#T_78b86_row6_col3,#T_78b86_row6_col8,#T_78b86_row8_col12,#T_78b86_row12_col1{\n",
       "            background-color:  #81a4fb;\n",
       "            color:  #000000;\n",
       "        }#T_78b86_row5_col12{\n",
       "            background-color:  #bfd3f6;\n",
       "            color:  #000000;\n",
       "        }#T_78b86_row6_col0,#T_78b86_row9_col8{\n",
       "            background-color:  #6687ed;\n",
       "            color:  #000000;\n",
       "        }#T_78b86_row6_col2{\n",
       "            background-color:  #7597f6;\n",
       "            color:  #000000;\n",
       "        }#T_78b86_row6_col4{\n",
       "            background-color:  #93b5fe;\n",
       "            color:  #000000;\n",
       "        }#T_78b86_row6_col9{\n",
       "            background-color:  #4358cb;\n",
       "            color:  #f1f1f1;\n",
       "        }#T_78b86_row6_col11{\n",
       "            background-color:  #b1cbfc;\n",
       "            color:  #000000;\n",
       "        }#T_78b86_row6_col12,#T_78b86_row7_col0{\n",
       "            background-color:  #a3c2fe;\n",
       "            color:  #000000;\n",
       "        }#T_78b86_row7_col3,#T_78b86_row9_col4{\n",
       "            background-color:  #5875e1;\n",
       "            color:  #000000;\n",
       "        }#T_78b86_row7_col5,#T_78b86_row10_col4{\n",
       "            background-color:  #6c8ff1;\n",
       "            color:  #000000;\n",
       "        }#T_78b86_row7_col6,#T_78b86_row9_col5{\n",
       "            background-color:  #516ddb;\n",
       "            color:  #000000;\n",
       "        }#T_78b86_row7_col8{\n",
       "            background-color:  #3c4ec2;\n",
       "            color:  #f1f1f1;\n",
       "        }#T_78b86_row7_col9{\n",
       "            background-color:  #6788ee;\n",
       "            color:  #000000;\n",
       "        }#T_78b86_row7_col11{\n",
       "            background-color:  #8caffe;\n",
       "            color:  #000000;\n",
       "        }#T_78b86_row7_col12{\n",
       "            background-color:  #e6d7cf;\n",
       "            color:  #000000;\n",
       "        }#T_78b86_row8_col3{\n",
       "            background-color:  #4c66d6;\n",
       "            color:  #000000;\n",
       "        }#T_78b86_row8_col4{\n",
       "            background-color:  #afcafc;\n",
       "            color:  #000000;\n",
       "        }#T_78b86_row8_col6,#T_78b86_row9_col7,#T_78b86_row10_col8,#T_78b86_row11_col3{\n",
       "            background-color:  #6f92f3;\n",
       "            color:  #000000;\n",
       "        }#T_78b86_row8_col9{\n",
       "            background-color:  #5d7ce6;\n",
       "            color:  #000000;\n",
       "        }#T_78b86_row8_col11{\n",
       "            background-color:  #c1d4f4;\n",
       "            color:  #000000;\n",
       "        }#T_78b86_row9_col2{\n",
       "            background-color:  #85a8fc;\n",
       "            color:  #000000;\n",
       "        }#T_78b86_row9_col10{\n",
       "            background-color:  #e1dad6;\n",
       "            color:  #000000;\n",
       "        }#T_78b86_row9_col11{\n",
       "            background-color:  #aac7fd;\n",
       "            color:  #000000;\n",
       "        }#T_78b86_row9_col12{\n",
       "            background-color:  #adc9fd;\n",
       "            color:  #000000;\n",
       "        }#T_78b86_row10_col2{\n",
       "            background-color:  #6e90f2;\n",
       "            color:  #000000;\n",
       "        }#T_78b86_row10_col9{\n",
       "            background-color:  #e2dad5;\n",
       "            color:  #000000;\n",
       "        }#T_78b86_row10_col11{\n",
       "            background-color:  #a9c6fd;\n",
       "            color:  #000000;\n",
       "        }#T_78b86_row11_col1{\n",
       "            background-color:  #465ecf;\n",
       "            color:  #f1f1f1;\n",
       "        }#T_78b86_row11_col4{\n",
       "            background-color:  #8badfd;\n",
       "            color:  #000000;\n",
       "        }#T_78b86_row11_col10{\n",
       "            background-color:  #5b7ae5;\n",
       "            color:  #000000;\n",
       "        }#T_78b86_row12_col7{\n",
       "            background-color:  #c3d5f4;\n",
       "            color:  #000000;\n",
       "        }</style><table id=\"T_78b86_\" ><thead>    <tr>        <th class=\"blank level0\" ></th>        <th class=\"col_heading level0 col0\" >age</th>        <th class=\"col_heading level0 col1\" >anaemia</th>        <th class=\"col_heading level0 col2\" >creatinine_phosphokinase</th>        <th class=\"col_heading level0 col3\" >diabetes</th>        <th class=\"col_heading level0 col4\" >ejection_fraction</th>        <th class=\"col_heading level0 col5\" >high_blood_pressure</th>        <th class=\"col_heading level0 col6\" >platelets</th>        <th class=\"col_heading level0 col7\" >serum_creatinine</th>        <th class=\"col_heading level0 col8\" >serum_sodium</th>        <th class=\"col_heading level0 col9\" >sex</th>        <th class=\"col_heading level0 col10\" >smoking</th>        <th class=\"col_heading level0 col11\" >time</th>        <th class=\"col_heading level0 col12\" >DEATH_EVENT</th>    </tr></thead><tbody>\n",
       "                <tr>\n",
       "                        <th id=\"T_78b86_level0_row0\" class=\"row_heading level0 row0\" >age</th>\n",
       "                        <td id=\"T_78b86_row0_col0\" class=\"data row0 col0\" >1.000000</td>\n",
       "                        <td id=\"T_78b86_row0_col1\" class=\"data row0 col1\" >0.088006</td>\n",
       "                        <td id=\"T_78b86_row0_col2\" class=\"data row0 col2\" >-0.081584</td>\n",
       "                        <td id=\"T_78b86_row0_col3\" class=\"data row0 col3\" >-0.101012</td>\n",
       "                        <td id=\"T_78b86_row0_col4\" class=\"data row0 col4\" >0.060098</td>\n",
       "                        <td id=\"T_78b86_row0_col5\" class=\"data row0 col5\" >0.093289</td>\n",
       "                        <td id=\"T_78b86_row0_col6\" class=\"data row0 col6\" >-0.052354</td>\n",
       "                        <td id=\"T_78b86_row0_col7\" class=\"data row0 col7\" >0.159187</td>\n",
       "                        <td id=\"T_78b86_row0_col8\" class=\"data row0 col8\" >-0.045966</td>\n",
       "                        <td id=\"T_78b86_row0_col9\" class=\"data row0 col9\" >0.065430</td>\n",
       "                        <td id=\"T_78b86_row0_col10\" class=\"data row0 col10\" >0.018668</td>\n",
       "                        <td id=\"T_78b86_row0_col11\" class=\"data row0 col11\" >-0.224068</td>\n",
       "                        <td id=\"T_78b86_row0_col12\" class=\"data row0 col12\" >0.253729</td>\n",
       "            </tr>\n",
       "            <tr>\n",
       "                        <th id=\"T_78b86_level0_row1\" class=\"row_heading level0 row1\" >anaemia</th>\n",
       "                        <td id=\"T_78b86_row1_col0\" class=\"data row1 col0\" >0.088006</td>\n",
       "                        <td id=\"T_78b86_row1_col1\" class=\"data row1 col1\" >1.000000</td>\n",
       "                        <td id=\"T_78b86_row1_col2\" class=\"data row1 col2\" >-0.190741</td>\n",
       "                        <td id=\"T_78b86_row1_col3\" class=\"data row1 col3\" >-0.012729</td>\n",
       "                        <td id=\"T_78b86_row1_col4\" class=\"data row1 col4\" >0.031557</td>\n",
       "                        <td id=\"T_78b86_row1_col5\" class=\"data row1 col5\" >0.038182</td>\n",
       "                        <td id=\"T_78b86_row1_col6\" class=\"data row1 col6\" >-0.043786</td>\n",
       "                        <td id=\"T_78b86_row1_col7\" class=\"data row1 col7\" >0.052174</td>\n",
       "                        <td id=\"T_78b86_row1_col8\" class=\"data row1 col8\" >0.041882</td>\n",
       "                        <td id=\"T_78b86_row1_col9\" class=\"data row1 col9\" >-0.094769</td>\n",
       "                        <td id=\"T_78b86_row1_col10\" class=\"data row1 col10\" >-0.107290</td>\n",
       "                        <td id=\"T_78b86_row1_col11\" class=\"data row1 col11\" >-0.141414</td>\n",
       "                        <td id=\"T_78b86_row1_col12\" class=\"data row1 col12\" >0.066270</td>\n",
       "            </tr>\n",
       "            <tr>\n",
       "                        <th id=\"T_78b86_level0_row2\" class=\"row_heading level0 row2\" >creatinine_phosphokinase</th>\n",
       "                        <td id=\"T_78b86_row2_col0\" class=\"data row2 col0\" >-0.081584</td>\n",
       "                        <td id=\"T_78b86_row2_col1\" class=\"data row2 col1\" >-0.190741</td>\n",
       "                        <td id=\"T_78b86_row2_col2\" class=\"data row2 col2\" >1.000000</td>\n",
       "                        <td id=\"T_78b86_row2_col3\" class=\"data row2 col3\" >-0.009639</td>\n",
       "                        <td id=\"T_78b86_row2_col4\" class=\"data row2 col4\" >-0.044080</td>\n",
       "                        <td id=\"T_78b86_row2_col5\" class=\"data row2 col5\" >-0.070590</td>\n",
       "                        <td id=\"T_78b86_row2_col6\" class=\"data row2 col6\" >0.024463</td>\n",
       "                        <td id=\"T_78b86_row2_col7\" class=\"data row2 col7\" >-0.016408</td>\n",
       "                        <td id=\"T_78b86_row2_col8\" class=\"data row2 col8\" >0.059550</td>\n",
       "                        <td id=\"T_78b86_row2_col9\" class=\"data row2 col9\" >0.079791</td>\n",
       "                        <td id=\"T_78b86_row2_col10\" class=\"data row2 col10\" >0.002421</td>\n",
       "                        <td id=\"T_78b86_row2_col11\" class=\"data row2 col11\" >-0.009346</td>\n",
       "                        <td id=\"T_78b86_row2_col12\" class=\"data row2 col12\" >0.062728</td>\n",
       "            </tr>\n",
       "            <tr>\n",
       "                        <th id=\"T_78b86_level0_row3\" class=\"row_heading level0 row3\" >diabetes</th>\n",
       "                        <td id=\"T_78b86_row3_col0\" class=\"data row3 col0\" >-0.101012</td>\n",
       "                        <td id=\"T_78b86_row3_col1\" class=\"data row3 col1\" >-0.012729</td>\n",
       "                        <td id=\"T_78b86_row3_col2\" class=\"data row3 col2\" >-0.009639</td>\n",
       "                        <td id=\"T_78b86_row3_col3\" class=\"data row3 col3\" >1.000000</td>\n",
       "                        <td id=\"T_78b86_row3_col4\" class=\"data row3 col4\" >-0.004850</td>\n",
       "                        <td id=\"T_78b86_row3_col5\" class=\"data row3 col5\" >-0.012732</td>\n",
       "                        <td id=\"T_78b86_row3_col6\" class=\"data row3 col6\" >0.092193</td>\n",
       "                        <td id=\"T_78b86_row3_col7\" class=\"data row3 col7\" >-0.046975</td>\n",
       "                        <td id=\"T_78b86_row3_col8\" class=\"data row3 col8\" >-0.089551</td>\n",
       "                        <td id=\"T_78b86_row3_col9\" class=\"data row3 col9\" >-0.157730</td>\n",
       "                        <td id=\"T_78b86_row3_col10\" class=\"data row3 col10\" >-0.147173</td>\n",
       "                        <td id=\"T_78b86_row3_col11\" class=\"data row3 col11\" >0.033726</td>\n",
       "                        <td id=\"T_78b86_row3_col12\" class=\"data row3 col12\" >-0.001943</td>\n",
       "            </tr>\n",
       "            <tr>\n",
       "                        <th id=\"T_78b86_level0_row4\" class=\"row_heading level0 row4\" >ejection_fraction</th>\n",
       "                        <td id=\"T_78b86_row4_col0\" class=\"data row4 col0\" >0.060098</td>\n",
       "                        <td id=\"T_78b86_row4_col1\" class=\"data row4 col1\" >0.031557</td>\n",
       "                        <td id=\"T_78b86_row4_col2\" class=\"data row4 col2\" >-0.044080</td>\n",
       "                        <td id=\"T_78b86_row4_col3\" class=\"data row4 col3\" >-0.004850</td>\n",
       "                        <td id=\"T_78b86_row4_col4\" class=\"data row4 col4\" >1.000000</td>\n",
       "                        <td id=\"T_78b86_row4_col5\" class=\"data row4 col5\" >0.024445</td>\n",
       "                        <td id=\"T_78b86_row4_col6\" class=\"data row4 col6\" >0.072177</td>\n",
       "                        <td id=\"T_78b86_row4_col7\" class=\"data row4 col7\" >-0.011302</td>\n",
       "                        <td id=\"T_78b86_row4_col8\" class=\"data row4 col8\" >0.175902</td>\n",
       "                        <td id=\"T_78b86_row4_col9\" class=\"data row4 col9\" >-0.148386</td>\n",
       "                        <td id=\"T_78b86_row4_col10\" class=\"data row4 col10\" >-0.067315</td>\n",
       "                        <td id=\"T_78b86_row4_col11\" class=\"data row4 col11\" >0.041729</td>\n",
       "                        <td id=\"T_78b86_row4_col12\" class=\"data row4 col12\" >-0.268603</td>\n",
       "            </tr>\n",
       "            <tr>\n",
       "                        <th id=\"T_78b86_level0_row5\" class=\"row_heading level0 row5\" >high_blood_pressure</th>\n",
       "                        <td id=\"T_78b86_row5_col0\" class=\"data row5 col0\" >0.093289</td>\n",
       "                        <td id=\"T_78b86_row5_col1\" class=\"data row5 col1\" >0.038182</td>\n",
       "                        <td id=\"T_78b86_row5_col2\" class=\"data row5 col2\" >-0.070590</td>\n",
       "                        <td id=\"T_78b86_row5_col3\" class=\"data row5 col3\" >-0.012732</td>\n",
       "                        <td id=\"T_78b86_row5_col4\" class=\"data row5 col4\" >0.024445</td>\n",
       "                        <td id=\"T_78b86_row5_col5\" class=\"data row5 col5\" >1.000000</td>\n",
       "                        <td id=\"T_78b86_row5_col6\" class=\"data row5 col6\" >0.049963</td>\n",
       "                        <td id=\"T_78b86_row5_col7\" class=\"data row5 col7\" >-0.004935</td>\n",
       "                        <td id=\"T_78b86_row5_col8\" class=\"data row5 col8\" >0.037109</td>\n",
       "                        <td id=\"T_78b86_row5_col9\" class=\"data row5 col9\" >-0.104615</td>\n",
       "                        <td id=\"T_78b86_row5_col10\" class=\"data row5 col10\" >-0.055711</td>\n",
       "                        <td id=\"T_78b86_row5_col11\" class=\"data row5 col11\" >-0.196439</td>\n",
       "                        <td id=\"T_78b86_row5_col12\" class=\"data row5 col12\" >0.079351</td>\n",
       "            </tr>\n",
       "            <tr>\n",
       "                        <th id=\"T_78b86_level0_row6\" class=\"row_heading level0 row6\" >platelets</th>\n",
       "                        <td id=\"T_78b86_row6_col0\" class=\"data row6 col0\" >-0.052354</td>\n",
       "                        <td id=\"T_78b86_row6_col1\" class=\"data row6 col1\" >-0.043786</td>\n",
       "                        <td id=\"T_78b86_row6_col2\" class=\"data row6 col2\" >0.024463</td>\n",
       "                        <td id=\"T_78b86_row6_col3\" class=\"data row6 col3\" >0.092193</td>\n",
       "                        <td id=\"T_78b86_row6_col4\" class=\"data row6 col4\" >0.072177</td>\n",
       "                        <td id=\"T_78b86_row6_col5\" class=\"data row6 col5\" >0.049963</td>\n",
       "                        <td id=\"T_78b86_row6_col6\" class=\"data row6 col6\" >1.000000</td>\n",
       "                        <td id=\"T_78b86_row6_col7\" class=\"data row6 col7\" >-0.041198</td>\n",
       "                        <td id=\"T_78b86_row6_col8\" class=\"data row6 col8\" >0.062125</td>\n",
       "                        <td id=\"T_78b86_row6_col9\" class=\"data row6 col9\" >-0.125120</td>\n",
       "                        <td id=\"T_78b86_row6_col10\" class=\"data row6 col10\" >0.028234</td>\n",
       "                        <td id=\"T_78b86_row6_col11\" class=\"data row6 col11\" >0.010514</td>\n",
       "                        <td id=\"T_78b86_row6_col12\" class=\"data row6 col12\" >-0.049139</td>\n",
       "            </tr>\n",
       "            <tr>\n",
       "                        <th id=\"T_78b86_level0_row7\" class=\"row_heading level0 row7\" >serum_creatinine</th>\n",
       "                        <td id=\"T_78b86_row7_col0\" class=\"data row7 col0\" >0.159187</td>\n",
       "                        <td id=\"T_78b86_row7_col1\" class=\"data row7 col1\" >0.052174</td>\n",
       "                        <td id=\"T_78b86_row7_col2\" class=\"data row7 col2\" >-0.016408</td>\n",
       "                        <td id=\"T_78b86_row7_col3\" class=\"data row7 col3\" >-0.046975</td>\n",
       "                        <td id=\"T_78b86_row7_col4\" class=\"data row7 col4\" >-0.011302</td>\n",
       "                        <td id=\"T_78b86_row7_col5\" class=\"data row7 col5\" >-0.004935</td>\n",
       "                        <td id=\"T_78b86_row7_col6\" class=\"data row7 col6\" >-0.041198</td>\n",
       "                        <td id=\"T_78b86_row7_col7\" class=\"data row7 col7\" >1.000000</td>\n",
       "                        <td id=\"T_78b86_row7_col8\" class=\"data row7 col8\" >-0.189095</td>\n",
       "                        <td id=\"T_78b86_row7_col9\" class=\"data row7 col9\" >0.006970</td>\n",
       "                        <td id=\"T_78b86_row7_col10\" class=\"data row7 col10\" >-0.027414</td>\n",
       "                        <td id=\"T_78b86_row7_col11\" class=\"data row7 col11\" >-0.149315</td>\n",
       "                        <td id=\"T_78b86_row7_col12\" class=\"data row7 col12\" >0.294278</td>\n",
       "            </tr>\n",
       "            <tr>\n",
       "                        <th id=\"T_78b86_level0_row8\" class=\"row_heading level0 row8\" >serum_sodium</th>\n",
       "                        <td id=\"T_78b86_row8_col0\" class=\"data row8 col0\" >-0.045966</td>\n",
       "                        <td id=\"T_78b86_row8_col1\" class=\"data row8 col1\" >0.041882</td>\n",
       "                        <td id=\"T_78b86_row8_col2\" class=\"data row8 col2\" >0.059550</td>\n",
       "                        <td id=\"T_78b86_row8_col3\" class=\"data row8 col3\" >-0.089551</td>\n",
       "                        <td id=\"T_78b86_row8_col4\" class=\"data row8 col4\" >0.175902</td>\n",
       "                        <td id=\"T_78b86_row8_col5\" class=\"data row8 col5\" >0.037109</td>\n",
       "                        <td id=\"T_78b86_row8_col6\" class=\"data row8 col6\" >0.062125</td>\n",
       "                        <td id=\"T_78b86_row8_col7\" class=\"data row8 col7\" >-0.189095</td>\n",
       "                        <td id=\"T_78b86_row8_col8\" class=\"data row8 col8\" >1.000000</td>\n",
       "                        <td id=\"T_78b86_row8_col9\" class=\"data row8 col9\" >-0.027566</td>\n",
       "                        <td id=\"T_78b86_row8_col10\" class=\"data row8 col10\" >0.004813</td>\n",
       "                        <td id=\"T_78b86_row8_col11\" class=\"data row8 col11\" >0.087640</td>\n",
       "                        <td id=\"T_78b86_row8_col12\" class=\"data row8 col12\" >-0.195204</td>\n",
       "            </tr>\n",
       "            <tr>\n",
       "                        <th id=\"T_78b86_level0_row9\" class=\"row_heading level0 row9\" >sex</th>\n",
       "                        <td id=\"T_78b86_row9_col0\" class=\"data row9 col0\" >0.065430</td>\n",
       "                        <td id=\"T_78b86_row9_col1\" class=\"data row9 col1\" >-0.094769</td>\n",
       "                        <td id=\"T_78b86_row9_col2\" class=\"data row9 col2\" >0.079791</td>\n",
       "                        <td id=\"T_78b86_row9_col3\" class=\"data row9 col3\" >-0.157730</td>\n",
       "                        <td id=\"T_78b86_row9_col4\" class=\"data row9 col4\" >-0.148386</td>\n",
       "                        <td id=\"T_78b86_row9_col5\" class=\"data row9 col5\" >-0.104615</td>\n",
       "                        <td id=\"T_78b86_row9_col6\" class=\"data row9 col6\" >-0.125120</td>\n",
       "                        <td id=\"T_78b86_row9_col7\" class=\"data row9 col7\" >0.006970</td>\n",
       "                        <td id=\"T_78b86_row9_col8\" class=\"data row9 col8\" >-0.027566</td>\n",
       "                        <td id=\"T_78b86_row9_col9\" class=\"data row9 col9\" >1.000000</td>\n",
       "                        <td id=\"T_78b86_row9_col10\" class=\"data row9 col10\" >0.445892</td>\n",
       "                        <td id=\"T_78b86_row9_col11\" class=\"data row9 col11\" >-0.015608</td>\n",
       "                        <td id=\"T_78b86_row9_col12\" class=\"data row9 col12\" >-0.004316</td>\n",
       "            </tr>\n",
       "            <tr>\n",
       "                        <th id=\"T_78b86_level0_row10\" class=\"row_heading level0 row10\" >smoking</th>\n",
       "                        <td id=\"T_78b86_row10_col0\" class=\"data row10 col0\" >0.018668</td>\n",
       "                        <td id=\"T_78b86_row10_col1\" class=\"data row10 col1\" >-0.107290</td>\n",
       "                        <td id=\"T_78b86_row10_col2\" class=\"data row10 col2\" >0.002421</td>\n",
       "                        <td id=\"T_78b86_row10_col3\" class=\"data row10 col3\" >-0.147173</td>\n",
       "                        <td id=\"T_78b86_row10_col4\" class=\"data row10 col4\" >-0.067315</td>\n",
       "                        <td id=\"T_78b86_row10_col5\" class=\"data row10 col5\" >-0.055711</td>\n",
       "                        <td id=\"T_78b86_row10_col6\" class=\"data row10 col6\" >0.028234</td>\n",
       "                        <td id=\"T_78b86_row10_col7\" class=\"data row10 col7\" >-0.027414</td>\n",
       "                        <td id=\"T_78b86_row10_col8\" class=\"data row10 col8\" >0.004813</td>\n",
       "                        <td id=\"T_78b86_row10_col9\" class=\"data row10 col9\" >0.445892</td>\n",
       "                        <td id=\"T_78b86_row10_col10\" class=\"data row10 col10\" >1.000000</td>\n",
       "                        <td id=\"T_78b86_row10_col11\" class=\"data row10 col11\" >-0.022839</td>\n",
       "                        <td id=\"T_78b86_row10_col12\" class=\"data row10 col12\" >-0.012623</td>\n",
       "            </tr>\n",
       "            <tr>\n",
       "                        <th id=\"T_78b86_level0_row11\" class=\"row_heading level0 row11\" >time</th>\n",
       "                        <td id=\"T_78b86_row11_col0\" class=\"data row11 col0\" >-0.224068</td>\n",
       "                        <td id=\"T_78b86_row11_col1\" class=\"data row11 col1\" >-0.141414</td>\n",
       "                        <td id=\"T_78b86_row11_col2\" class=\"data row11 col2\" >-0.009346</td>\n",
       "                        <td id=\"T_78b86_row11_col3\" class=\"data row11 col3\" >0.033726</td>\n",
       "                        <td id=\"T_78b86_row11_col4\" class=\"data row11 col4\" >0.041729</td>\n",
       "                        <td id=\"T_78b86_row11_col5\" class=\"data row11 col5\" >-0.196439</td>\n",
       "                        <td id=\"T_78b86_row11_col6\" class=\"data row11 col6\" >0.010514</td>\n",
       "                        <td id=\"T_78b86_row11_col7\" class=\"data row11 col7\" >-0.149315</td>\n",
       "                        <td id=\"T_78b86_row11_col8\" class=\"data row11 col8\" >0.087640</td>\n",
       "                        <td id=\"T_78b86_row11_col9\" class=\"data row11 col9\" >-0.015608</td>\n",
       "                        <td id=\"T_78b86_row11_col10\" class=\"data row11 col10\" >-0.022839</td>\n",
       "                        <td id=\"T_78b86_row11_col11\" class=\"data row11 col11\" >1.000000</td>\n",
       "                        <td id=\"T_78b86_row11_col12\" class=\"data row11 col12\" >-0.526964</td>\n",
       "            </tr>\n",
       "            <tr>\n",
       "                        <th id=\"T_78b86_level0_row12\" class=\"row_heading level0 row12\" >DEATH_EVENT</th>\n",
       "                        <td id=\"T_78b86_row12_col0\" class=\"data row12 col0\" >0.253729</td>\n",
       "                        <td id=\"T_78b86_row12_col1\" class=\"data row12 col1\" >0.066270</td>\n",
       "                        <td id=\"T_78b86_row12_col2\" class=\"data row12 col2\" >0.062728</td>\n",
       "                        <td id=\"T_78b86_row12_col3\" class=\"data row12 col3\" >-0.001943</td>\n",
       "                        <td id=\"T_78b86_row12_col4\" class=\"data row12 col4\" >-0.268603</td>\n",
       "                        <td id=\"T_78b86_row12_col5\" class=\"data row12 col5\" >0.079351</td>\n",
       "                        <td id=\"T_78b86_row12_col6\" class=\"data row12 col6\" >-0.049139</td>\n",
       "                        <td id=\"T_78b86_row12_col7\" class=\"data row12 col7\" >0.294278</td>\n",
       "                        <td id=\"T_78b86_row12_col8\" class=\"data row12 col8\" >-0.195204</td>\n",
       "                        <td id=\"T_78b86_row12_col9\" class=\"data row12 col9\" >-0.004316</td>\n",
       "                        <td id=\"T_78b86_row12_col10\" class=\"data row12 col10\" >-0.012623</td>\n",
       "                        <td id=\"T_78b86_row12_col11\" class=\"data row12 col11\" >-0.526964</td>\n",
       "                        <td id=\"T_78b86_row12_col12\" class=\"data row12 col12\" >1.000000</td>\n",
       "            </tr>\n",
       "    </tbody></table>"
      ],
      "text/plain": [
       "<pandas.io.formats.style.Styler at 0x2555a7a6ca0>"
      ]
     },
     "execution_count": 13,
     "metadata": {},
     "output_type": "execute_result"
    }
   ],
   "source": [
    "data.corr().style.background_gradient(cmap='coolwarm')"
   ]
  },
  {
   "cell_type": "markdown",
   "id": "782cfbf0",
   "metadata": {},
   "source": [
    "### Dataset Development"
   ]
  },
  {
   "cell_type": "code",
   "execution_count": 14,
   "id": "976f7533",
   "metadata": {},
   "outputs": [
    {
     "name": "stdout",
     "output_type": "stream",
     "text": [
      "Shape of the X_train (209, 12)\n",
      "Shape of the y_train (209,)\n",
      "Shape of the X_test (90, 12)\n",
      "Shape of the y_test (90,)\n"
     ]
    }
   ],
   "source": [
    "from sklearn.model_selection import train_test_split\n",
    "\n",
    "X = data.drop('DEATH_EVENT', axis=1)\n",
    "y = data[\"DEATH_EVENT\"]\n",
    "\n",
    "X_train, X_test, y_train, y_test = train_test_split(X,y,test_size=0.3,random_state=0)\n",
    "print(\"Shape of the X_train\", X_train.shape)\n",
    "print(\"Shape of the y_train\", y_train.shape)\n",
    "print(\"Shape of the X_test\", X_test.shape)\n",
    "print(\"Shape of the y_test\", y_test.shape)"
   ]
  },
  {
   "cell_type": "markdown",
   "id": "4430b473",
   "metadata": {},
   "source": [
    "# Feature Engineering"
   ]
  },
  {
   "cell_type": "code",
   "execution_count": 15,
   "id": "564ef70b",
   "metadata": {},
   "outputs": [],
   "source": [
    "def add_interactions(X):\n",
    "    features = X.columns\n",
    "    m = len(features)\n",
    "    X_int = X.copy(deep = True)\n",
    "    \n",
    "    for i in range(m):\n",
    "        \n",
    "        feature_i_name = features[i]\n",
    "        \n",
    "        feature_i_data = X[feature_i_name]\n",
    "        \n",
    "        for j in range(i+1, m):\n",
    "            \n",
    "            feature_j_name = features[j]\n",
    "            feature_j_data = X[feature_j_name]\n",
    "            feature_i_j_name = feature_i_name+\"x\"+feature_j_name\n",
    "            X_int[feature_i_j_name] = feature_i_data*feature_j_data\n",
    "    \n",
    "    return X_int\n",
    "\n",
    "x_train_mod = add_interactions(X_train)\n",
    "y_test_mod = add_interactions(X_test)"
   ]
  },
  {
   "cell_type": "markdown",
   "id": "09e4ad93",
   "metadata": {},
   "source": [
    "### Model building"
   ]
  },
  {
   "cell_type": "code",
   "execution_count": 16,
   "id": "f322e0af",
   "metadata": {},
   "outputs": [],
   "source": [
    "from sklearn.metrics import confusion_matrix, accuracy_score, precision_score, recall_score\n",
    "\n",
    "def evaluating_model(y_test, y_pred):\n",
    "    '''\n",
    "    Function for evaluating the models\n",
    "    '''\n",
    "    print(\"Accuracy Score:-\", accuracy_score(y_test, y_pred))\n",
    "    print(\"Precision Score:-\", precision_score(y_test, y_pred))\n",
    "    print(\"Recall Score:-\", recall_score(y_test, y_pred))\n",
    "    print(\"Confusion Matrix:- \\n\", confusion_matrix(y_test, y_pred))"
   ]
  },
  {
   "cell_type": "code",
   "execution_count": 17,
   "id": "c06b5ce6",
   "metadata": {},
   "outputs": [],
   "source": [
    "from sklearn.linear_model import LogisticRegression\n",
    "\n",
    "lr_clf = LogisticRegression(max_iter=1000)\n",
    "lr_clf.fit(X_train, y_train)\n",
    "\n",
    "lr_clf_pred = lr_clf.predict(X_test)"
   ]
  },
  {
   "cell_type": "code",
   "execution_count": 18,
   "id": "e23e58ba",
   "metadata": {},
   "outputs": [
    {
     "name": "stdout",
     "output_type": "stream",
     "text": [
      "Accuracy Score:- 0.7888888888888889\n",
      "Precision Score:- 0.7647058823529411\n",
      "Recall Score:- 0.4642857142857143\n",
      "Confusion Matrix:- \n",
      " [[58  4]\n",
      " [15 13]]\n"
     ]
    }
   ],
   "source": [
    "y_pred = lr_clf.predict(X_test)\n",
    "evaluating_model(y_test,y_pred)"
   ]
  },
  {
   "cell_type": "code",
   "execution_count": 19,
   "id": "59b4d1d1",
   "metadata": {},
   "outputs": [
    {
     "name": "stdout",
     "output_type": "stream",
     "text": [
      "Accuracy Score:- 0.8111111111111111\n",
      "Precision Score:- 0.7894736842105263\n",
      "Recall Score:- 0.5357142857142857\n",
      "Confusion Matrix:- \n",
      " [[58  4]\n",
      " [13 15]]\n"
     ]
    }
   ],
   "source": [
    "from sklearn.pipeline import make_pipeline\n",
    "from sklearn.preprocessing import StandardScaler\n",
    "\n",
    "lr_clf_pip = make_pipeline(StandardScaler(), LogisticRegression())\n",
    "lr_clf_pip.fit(X_train, y_train)\n",
    "\n",
    "y_pred1 = lr_clf_pip.predict(X_test)\n",
    "evaluating_model(y_test, y_pred1)"
   ]
  },
  {
   "cell_type": "code",
   "execution_count": 20,
   "id": "8bd60c96",
   "metadata": {},
   "outputs": [
    {
     "name": "stdout",
     "output_type": "stream",
     "text": [
      "Fitting 5 folds for each of 25 candidates, totalling 125 fits\n",
      "[CV 1/5] END .....................C=0.1, gamma=1, kernel=rbf; total time=   0.0s\n",
      "[CV 2/5] END .....................C=0.1, gamma=1, kernel=rbf; total time=   0.0s\n",
      "[CV 3/5] END .....................C=0.1, gamma=1, kernel=rbf; total time=   0.0s\n",
      "[CV 4/5] END .....................C=0.1, gamma=1, kernel=rbf; total time=   0.0s\n",
      "[CV 5/5] END .....................C=0.1, gamma=1, kernel=rbf; total time=   0.0s\n",
      "[CV 1/5] END ...................C=0.1, gamma=0.1, kernel=rbf; total time=   0.0s\n",
      "[CV 2/5] END ...................C=0.1, gamma=0.1, kernel=rbf; total time=   0.0s\n",
      "[CV 3/5] END ...................C=0.1, gamma=0.1, kernel=rbf; total time=   0.0s\n",
      "[CV 4/5] END ...................C=0.1, gamma=0.1, kernel=rbf; total time=   0.0s\n",
      "[CV 5/5] END ...................C=0.1, gamma=0.1, kernel=rbf; total time=   0.0s\n",
      "[CV 1/5] END ..................C=0.1, gamma=0.01, kernel=rbf; total time=   0.0s\n",
      "[CV 2/5] END ..................C=0.1, gamma=0.01, kernel=rbf; total time=   0.0s\n",
      "[CV 3/5] END ..................C=0.1, gamma=0.01, kernel=rbf; total time=   0.0s\n",
      "[CV 4/5] END ..................C=0.1, gamma=0.01, kernel=rbf; total time=   0.0s\n",
      "[CV 5/5] END ..................C=0.1, gamma=0.01, kernel=rbf; total time=   0.0s\n",
      "[CV 1/5] END .................C=0.1, gamma=0.001, kernel=rbf; total time=   0.0s\n",
      "[CV 2/5] END .................C=0.1, gamma=0.001, kernel=rbf; total time=   0.0s\n",
      "[CV 3/5] END .................C=0.1, gamma=0.001, kernel=rbf; total time=   0.0s\n",
      "[CV 4/5] END .................C=0.1, gamma=0.001, kernel=rbf; total time=   0.0s\n",
      "[CV 5/5] END .................C=0.1, gamma=0.001, kernel=rbf; total time=   0.0s\n",
      "[CV 1/5] END ................C=0.1, gamma=0.0001, kernel=rbf; total time=   0.0s\n",
      "[CV 2/5] END ................C=0.1, gamma=0.0001, kernel=rbf; total time=   0.0s\n",
      "[CV 3/5] END ................C=0.1, gamma=0.0001, kernel=rbf; total time=   0.0s\n",
      "[CV 4/5] END ................C=0.1, gamma=0.0001, kernel=rbf; total time=   0.0s\n",
      "[CV 5/5] END ................C=0.1, gamma=0.0001, kernel=rbf; total time=   0.0s\n",
      "[CV 1/5] END .......................C=1, gamma=1, kernel=rbf; total time=   0.0s\n",
      "[CV 2/5] END .......................C=1, gamma=1, kernel=rbf; total time=   0.0s\n",
      "[CV 3/5] END .......................C=1, gamma=1, kernel=rbf; total time=   0.0s\n",
      "[CV 4/5] END .......................C=1, gamma=1, kernel=rbf; total time=   0.0s\n",
      "[CV 5/5] END .......................C=1, gamma=1, kernel=rbf; total time=   0.0s\n",
      "[CV 1/5] END .....................C=1, gamma=0.1, kernel=rbf; total time=   0.0s\n",
      "[CV 2/5] END .....................C=1, gamma=0.1, kernel=rbf; total time=   0.0s\n",
      "[CV 3/5] END .....................C=1, gamma=0.1, kernel=rbf; total time=   0.0s\n",
      "[CV 4/5] END .....................C=1, gamma=0.1, kernel=rbf; total time=   0.0s\n",
      "[CV 5/5] END .....................C=1, gamma=0.1, kernel=rbf; total time=   0.0s\n",
      "[CV 1/5] END ....................C=1, gamma=0.01, kernel=rbf; total time=   0.0s\n",
      "[CV 2/5] END ....................C=1, gamma=0.01, kernel=rbf; total time=   0.0s\n",
      "[CV 3/5] END ....................C=1, gamma=0.01, kernel=rbf; total time=   0.0s\n",
      "[CV 4/5] END ....................C=1, gamma=0.01, kernel=rbf; total time=   0.0s\n",
      "[CV 5/5] END ....................C=1, gamma=0.01, kernel=rbf; total time=   0.0s\n",
      "[CV 1/5] END ...................C=1, gamma=0.001, kernel=rbf; total time=   0.0s\n",
      "[CV 2/5] END ...................C=1, gamma=0.001, kernel=rbf; total time=   0.0s\n",
      "[CV 3/5] END ...................C=1, gamma=0.001, kernel=rbf; total time=   0.0s\n",
      "[CV 4/5] END ...................C=1, gamma=0.001, kernel=rbf; total time=   0.0s\n",
      "[CV 5/5] END ...................C=1, gamma=0.001, kernel=rbf; total time=   0.0s\n",
      "[CV 1/5] END ..................C=1, gamma=0.0001, kernel=rbf; total time=   0.0s\n",
      "[CV 2/5] END ..................C=1, gamma=0.0001, kernel=rbf; total time=   0.0s\n",
      "[CV 3/5] END ..................C=1, gamma=0.0001, kernel=rbf; total time=   0.0s\n",
      "[CV 4/5] END ..................C=1, gamma=0.0001, kernel=rbf; total time=   0.0s\n",
      "[CV 5/5] END ..................C=1, gamma=0.0001, kernel=rbf; total time=   0.0s\n",
      "[CV 1/5] END ......................C=10, gamma=1, kernel=rbf; total time=   0.0s\n",
      "[CV 2/5] END ......................C=10, gamma=1, kernel=rbf; total time=   0.0s\n",
      "[CV 3/5] END ......................C=10, gamma=1, kernel=rbf; total time=   0.0s\n",
      "[CV 4/5] END ......................C=10, gamma=1, kernel=rbf; total time=   0.0s\n",
      "[CV 5/5] END ......................C=10, gamma=1, kernel=rbf; total time=   0.0s\n",
      "[CV 1/5] END ....................C=10, gamma=0.1, kernel=rbf; total time=   0.0s\n",
      "[CV 2/5] END ....................C=10, gamma=0.1, kernel=rbf; total time=   0.0s\n",
      "[CV 3/5] END ....................C=10, gamma=0.1, kernel=rbf; total time=   0.0s\n",
      "[CV 4/5] END ....................C=10, gamma=0.1, kernel=rbf; total time=   0.0s\n",
      "[CV 5/5] END ....................C=10, gamma=0.1, kernel=rbf; total time=   0.0s\n",
      "[CV 1/5] END ...................C=10, gamma=0.01, kernel=rbf; total time=   0.0s\n",
      "[CV 2/5] END ...................C=10, gamma=0.01, kernel=rbf; total time=   0.0s\n",
      "[CV 3/5] END ...................C=10, gamma=0.01, kernel=rbf; total time=   0.0s\n",
      "[CV 4/5] END ...................C=10, gamma=0.01, kernel=rbf; total time=   0.0s\n",
      "[CV 5/5] END ...................C=10, gamma=0.01, kernel=rbf; total time=   0.0s\n",
      "[CV 1/5] END ..................C=10, gamma=0.001, kernel=rbf; total time=   0.0s\n",
      "[CV 2/5] END ..................C=10, gamma=0.001, kernel=rbf; total time=   0.0s\n",
      "[CV 3/5] END ..................C=10, gamma=0.001, kernel=rbf; total time=   0.0s\n",
      "[CV 4/5] END ..................C=10, gamma=0.001, kernel=rbf; total time=   0.0s\n",
      "[CV 5/5] END ..................C=10, gamma=0.001, kernel=rbf; total time=   0.0s\n",
      "[CV 1/5] END .................C=10, gamma=0.0001, kernel=rbf; total time=   0.0s\n",
      "[CV 2/5] END .................C=10, gamma=0.0001, kernel=rbf; total time=   0.0s\n",
      "[CV 3/5] END .................C=10, gamma=0.0001, kernel=rbf; total time=   0.0s\n",
      "[CV 4/5] END .................C=10, gamma=0.0001, kernel=rbf; total time=   0.0s\n",
      "[CV 5/5] END .................C=10, gamma=0.0001, kernel=rbf; total time=   0.0s\n",
      "[CV 1/5] END .....................C=100, gamma=1, kernel=rbf; total time=   0.0s\n",
      "[CV 2/5] END .....................C=100, gamma=1, kernel=rbf; total time=   0.0s\n",
      "[CV 3/5] END .....................C=100, gamma=1, kernel=rbf; total time=   0.0s\n",
      "[CV 4/5] END .....................C=100, gamma=1, kernel=rbf; total time=   0.0s\n",
      "[CV 5/5] END .....................C=100, gamma=1, kernel=rbf; total time=   0.0s\n",
      "[CV 1/5] END ...................C=100, gamma=0.1, kernel=rbf; total time=   0.0s\n",
      "[CV 2/5] END ...................C=100, gamma=0.1, kernel=rbf; total time=   0.0s\n",
      "[CV 3/5] END ...................C=100, gamma=0.1, kernel=rbf; total time=   0.0s\n",
      "[CV 4/5] END ...................C=100, gamma=0.1, kernel=rbf; total time=   0.0s\n",
      "[CV 5/5] END ...................C=100, gamma=0.1, kernel=rbf; total time=   0.0s\n",
      "[CV 1/5] END ..................C=100, gamma=0.01, kernel=rbf; total time=   0.0s\n",
      "[CV 2/5] END ..................C=100, gamma=0.01, kernel=rbf; total time=   0.0s\n",
      "[CV 3/5] END ..................C=100, gamma=0.01, kernel=rbf; total time=   0.0s\n",
      "[CV 4/5] END ..................C=100, gamma=0.01, kernel=rbf; total time=   0.0s\n",
      "[CV 5/5] END ..................C=100, gamma=0.01, kernel=rbf; total time=   0.0s\n",
      "[CV 1/5] END .................C=100, gamma=0.001, kernel=rbf; total time=   0.0s\n",
      "[CV 2/5] END .................C=100, gamma=0.001, kernel=rbf; total time=   0.0s\n",
      "[CV 3/5] END .................C=100, gamma=0.001, kernel=rbf; total time=   0.0s\n",
      "[CV 4/5] END .................C=100, gamma=0.001, kernel=rbf; total time=   0.0s\n",
      "[CV 5/5] END .................C=100, gamma=0.001, kernel=rbf; total time=   0.0s\n",
      "[CV 1/5] END ................C=100, gamma=0.0001, kernel=rbf; total time=   0.0s\n",
      "[CV 2/5] END ................C=100, gamma=0.0001, kernel=rbf; total time=   0.0s\n",
      "[CV 3/5] END ................C=100, gamma=0.0001, kernel=rbf; total time=   0.0s\n",
      "[CV 4/5] END ................C=100, gamma=0.0001, kernel=rbf; total time=   0.0s\n",
      "[CV 5/5] END ................C=100, gamma=0.0001, kernel=rbf; total time=   0.0s\n",
      "[CV 1/5] END ....................C=1000, gamma=1, kernel=rbf; total time=   0.0s\n",
      "[CV 2/5] END ....................C=1000, gamma=1, kernel=rbf; total time=   0.0s\n",
      "[CV 3/5] END ....................C=1000, gamma=1, kernel=rbf; total time=   0.0s\n",
      "[CV 4/5] END ....................C=1000, gamma=1, kernel=rbf; total time=   0.0s\n",
      "[CV 5/5] END ....................C=1000, gamma=1, kernel=rbf; total time=   0.0s\n",
      "[CV 1/5] END ..................C=1000, gamma=0.1, kernel=rbf; total time=   0.0s\n",
      "[CV 2/5] END ..................C=1000, gamma=0.1, kernel=rbf; total time=   0.0s\n",
      "[CV 3/5] END ..................C=1000, gamma=0.1, kernel=rbf; total time=   0.0s\n",
      "[CV 4/5] END ..................C=1000, gamma=0.1, kernel=rbf; total time=   0.0s\n",
      "[CV 5/5] END ..................C=1000, gamma=0.1, kernel=rbf; total time=   0.0s\n",
      "[CV 1/5] END .................C=1000, gamma=0.01, kernel=rbf; total time=   0.0s\n",
      "[CV 2/5] END .................C=1000, gamma=0.01, kernel=rbf; total time=   0.0s\n",
      "[CV 3/5] END .................C=1000, gamma=0.01, kernel=rbf; total time=   0.0s\n",
      "[CV 4/5] END .................C=1000, gamma=0.01, kernel=rbf; total time=   0.0s\n",
      "[CV 5/5] END .................C=1000, gamma=0.01, kernel=rbf; total time=   0.0s\n",
      "[CV 1/5] END ................C=1000, gamma=0.001, kernel=rbf; total time=   0.0s\n",
      "[CV 2/5] END ................C=1000, gamma=0.001, kernel=rbf; total time=   0.0s\n",
      "[CV 3/5] END ................C=1000, gamma=0.001, kernel=rbf; total time=   0.0s\n",
      "[CV 4/5] END ................C=1000, gamma=0.001, kernel=rbf; total time=   0.0s\n",
      "[CV 5/5] END ................C=1000, gamma=0.001, kernel=rbf; total time=   0.0s\n",
      "[CV 1/5] END ...............C=1000, gamma=0.0001, kernel=rbf; total time=   0.0s\n",
      "[CV 2/5] END ...............C=1000, gamma=0.0001, kernel=rbf; total time=   0.0s\n",
      "[CV 3/5] END ...............C=1000, gamma=0.0001, kernel=rbf; total time=   0.0s\n",
      "[CV 4/5] END ...............C=1000, gamma=0.0001, kernel=rbf; total time=   0.0s\n",
      "[CV 5/5] END ...............C=1000, gamma=0.0001, kernel=rbf; total time=   0.0s\n"
     ]
    },
    {
     "data": {
      "text/plain": [
       "GridSearchCV(estimator=SVC(),\n",
       "             param_grid={'C': [0.1, 1, 10, 100, 1000],\n",
       "                         'gamma': [1, 0.1, 0.01, 0.001, 0.0001],\n",
       "                         'kernel': ['rbf']},\n",
       "             verbose=3)"
      ]
     },
     "execution_count": 20,
     "metadata": {},
     "output_type": "execute_result"
    }
   ],
   "source": [
    "from sklearn.svm import SVC\n",
    "from sklearn.model_selection import GridSearchCV\n",
    "\n",
    "param_grid = {'C':[0.1, 1, 10, 100, 1000],\n",
    "             'gamma': [1,0.1,0.01,0.001,0.0001],\n",
    "              'kernel':['rbf']}\n",
    "grid = GridSearchCV(SVC(), param_grid, refit=True, verbose=3)\n",
    "grid.fit(X_train, y_train)"
   ]
  },
  {
   "cell_type": "code",
   "execution_count": 21,
   "id": "fe221982",
   "metadata": {},
   "outputs": [
    {
     "data": {
      "text/plain": [
       "SVC(C=10, gamma=0.0001)"
      ]
     },
     "execution_count": 21,
     "metadata": {},
     "output_type": "execute_result"
    }
   ],
   "source": [
    "grid.best_estimator_"
   ]
  },
  {
   "cell_type": "code",
   "execution_count": 22,
   "id": "9c1ff700",
   "metadata": {},
   "outputs": [
    {
     "name": "stdout",
     "output_type": "stream",
     "text": [
      "Accuracy Score:- 0.6777777777777778\n",
      "Precision Score:- 0.4\n",
      "Recall Score:- 0.07142857142857142\n",
      "Confusion Matrix:- \n",
      " [[59  3]\n",
      " [26  2]]\n"
     ]
    }
   ],
   "source": [
    "svc = SVC(C =10, gamma=0.0001)\n",
    "svc.fit(X_train, y_train)\n",
    "y_pred2 = svc.predict(X_test)\n",
    "evaluating_model(y_test, y_pred2)"
   ]
  },
  {
   "cell_type": "code",
   "execution_count": 23,
   "id": "0da84758",
   "metadata": {},
   "outputs": [
    {
     "name": "stdout",
     "output_type": "stream",
     "text": [
      "Training score: 0.847\n",
      "Test score:0.756\n"
     ]
    },
    {
     "data": {
      "text/plain": [
       "DecisionTreeClassifier(criterion='entropy', max_depth=4, max_features=0.75,\n",
       "                       max_leaf_nodes=25, min_impurity_decrease=0.0005,\n",
       "                       min_samples_split=5, min_weight_fraction_leaf=0.0075,\n",
       "                       random_state=2)"
      ]
     },
     "execution_count": 23,
     "metadata": {},
     "output_type": "execute_result"
    }
   ],
   "source": [
    "from sklearn.tree import DecisionTreeClassifier\n",
    "from sklearn.model_selection import RandomizedSearchCV\n",
    "\n",
    "def randomized_search(params, runs=20, clf=DecisionTreeClassifier(random_state=2)):\n",
    "    rand_clf = RandomizedSearchCV(clf, params, n_iter= runs, cv=5, n_jobs=-1, random_state=2)\n",
    "    rand_clf.fit(X_train,y_train)\n",
    "    best_model = rand_clf.best_estimator_\n",
    "    best_score = rand_clf.best_score_\n",
    "    \n",
    "    print(\"Training score: {:.3f}\".format(best_score))\n",
    "    y_pred = best_model.predict(X_test)\n",
    "    accuracy = accuracy_score(y_test, y_pred)\n",
    "    print('Test score:{:.3f}'.format(accuracy))\n",
    "    \n",
    "    return best_model\n",
    "\n",
    "randomized_search(params={'criterion':['entropy', 'gini'],\n",
    "                             'splitter':['random','best'],\n",
    "                          'min_weight_fraction_leaf':[0.0, 0.0025, 0.005, 0.0075, 0.01],\n",
    "                          'min_samples_split':[2,3,4,5,6,8,10],\n",
    "                          'min_samples_leaf':[1,0.01,0.02,0.03,0.04],\n",
    "                          'min_impurity_decrease':[0.0,0.0005, 0.005,0.05,0.10,0.15,0.2],\n",
    "                          'max_leaf_nodes':[10, 15, 20, 25, 30, 35, 40, 45, 50, None],\n",
    "                          'max_features':['auto', 0.95, 0.90, 0.85, 0.80, 0.75, 0.70],\n",
    "                          'max_depth':[None, 2,4,6,8],\n",
    "                          'min_weight_fraction_leaf':[0.0, 0.0025, 0.005, 0.0075, 0.01, 0.05]\n",
    "                         })"
   ]
  },
  {
   "cell_type": "code",
   "execution_count": 24,
   "id": "bec1bf97",
   "metadata": {},
   "outputs": [
    {
     "name": "stdout",
     "output_type": "stream",
     "text": [
      "Accuracy Score:- 0.8111111111111111\n",
      "Precision Score:- 0.72\n",
      "Recall Score:- 0.6428571428571429\n",
      "Confusion Matrix:- \n",
      " [[55  7]\n",
      " [10 18]]\n"
     ]
    }
   ],
   "source": [
    "ds_clf = DecisionTreeClassifier(max_depth=8, max_features=0.9, max_leaf_nodes=30,\n",
    "                               min_impurity_decrease=0.05, min_samples_leaf=0.02,\n",
    "                               min_samples_split=10, min_weight_fraction_leaf=0.005,\n",
    "                               random_state=2,splitter='random')\n",
    "ds_clf.fit(X_train, y_train)\n",
    "pred4 = ds_clf.predict(X_test)\n",
    "evaluating_model(y_test, pred4)"
   ]
  },
  {
   "cell_type": "code",
   "execution_count": 25,
   "id": "6ca02c23",
   "metadata": {},
   "outputs": [
    {
     "name": "stdout",
     "output_type": "stream",
     "text": [
      "Training score: 0.847\n",
      "Test score:0.867\n"
     ]
    },
    {
     "data": {
      "text/plain": [
       "RandomForestClassifier(max_depth=2, max_features=0.5,\n",
       "                       min_impurity_decrease=0.01, min_samples_leaf=10,\n",
       "                       random_state=2)"
      ]
     },
     "execution_count": 25,
     "metadata": {},
     "output_type": "execute_result"
    }
   ],
   "source": [
    "from sklearn.ensemble import RandomForestClassifier\n",
    "\n",
    "randomized_search(params={\n",
    "                          'min_samples_leaf':[1,2,4,6,8,10,20,30],\n",
    "                           'min_impurity_decrease':[0.0,0.01,0.05,0.10,0.15,0.2],\n",
    "                          'max_features':['auto', 0.8,0.7,0.6,0.5,0.4],\n",
    "                          'max_depth':[None,2,4,6,8,10,20],\n",
    "                          }, clf=RandomForestClassifier(random_state=2))"
   ]
  },
  {
   "cell_type": "code",
   "execution_count": 26,
   "id": "1ebbee7a",
   "metadata": {},
   "outputs": [
    {
     "name": "stdout",
     "output_type": "stream",
     "text": [
      "Accuracy Score:- 0.8666666666666667\n",
      "Precision Score:- 0.9\n",
      "Recall Score:- 0.6428571428571429\n",
      "Confusion Matrix:- \n",
      " [[60  2]\n",
      " [10 18]]\n"
     ]
    }
   ],
   "source": [
    "rf_clf = RandomForestClassifier(max_depth=2, max_features=0.5,\n",
    "                            min_impurity_decrease=0.01, min_samples_leaf=10,\n",
    "                               random_state=2)\n",
    "rf_clf.fit(X_train, y_train)\n",
    "pred5 = rf_clf.predict(X_test)\n",
    "evaluating_model(y_test, pred5)"
   ]
  },
  {
   "cell_type": "code",
   "execution_count": 28,
   "id": "dc6fec81",
   "metadata": {},
   "outputs": [
    {
     "ename": "TypeError",
     "evalue": "fit() got an unexpected keyword argument 'early_stooping_rounds'",
     "output_type": "error",
     "traceback": [
      "\u001b[1;31m---------------------------------------------------------------------------\u001b[0m",
      "\u001b[1;31mTypeError\u001b[0m                                 Traceback (most recent call last)",
      "\u001b[1;32m<ipython-input-28-f27c59413e1b>\u001b[0m in \u001b[0;36m<module>\u001b[1;34m\u001b[0m\n\u001b[0;32m      8\u001b[0m \u001b[0meval_set\u001b[0m \u001b[1;33m=\u001b[0m \u001b[1;33m[\u001b[0m\u001b[1;33m(\u001b[0m\u001b[0mX_test\u001b[0m\u001b[1;33m,\u001b[0m\u001b[0my_test\u001b[0m\u001b[1;33m)\u001b[0m\u001b[1;33m]\u001b[0m\u001b[1;33m\u001b[0m\u001b[1;33m\u001b[0m\u001b[0m\n\u001b[0;32m      9\u001b[0m \u001b[1;33m\u001b[0m\u001b[0m\n\u001b[1;32m---> 10\u001b[1;33m \u001b[0mxgb1\u001b[0m\u001b[1;33m.\u001b[0m\u001b[0mfit\u001b[0m\u001b[1;33m(\u001b[0m\u001b[0mX_train\u001b[0m\u001b[1;33m,\u001b[0m \u001b[0my_train\u001b[0m\u001b[1;33m,\u001b[0m \u001b[0mearly_stooping_rounds\u001b[0m\u001b[1;33m=\u001b[0m\u001b[1;36m10\u001b[0m\u001b[1;33m,\u001b[0m \u001b[0meval_metric\u001b[0m\u001b[1;33m=\u001b[0m\u001b[1;34m\"logloss\"\u001b[0m\u001b[1;33m,\u001b[0m \u001b[0meval_set\u001b[0m\u001b[1;33m=\u001b[0m \u001b[0meval_set\u001b[0m\u001b[1;33m,\u001b[0m \u001b[0mverbose\u001b[0m\u001b[1;33m=\u001b[0m\u001b[1;32mTrue\u001b[0m\u001b[1;33m)\u001b[0m\u001b[1;33m\u001b[0m\u001b[1;33m\u001b[0m\u001b[0m\n\u001b[0m",
      "\u001b[1;32m~\\anaconda3\\lib\\site-packages\\xgboost\\core.py\u001b[0m in \u001b[0;36minner_f\u001b[1;34m(*args, **kwargs)\u001b[0m\n\u001b[0;32m    504\u001b[0m         \u001b[1;32mfor\u001b[0m \u001b[0mk\u001b[0m\u001b[1;33m,\u001b[0m \u001b[0marg\u001b[0m \u001b[1;32min\u001b[0m \u001b[0mzip\u001b[0m\u001b[1;33m(\u001b[0m\u001b[0msig\u001b[0m\u001b[1;33m.\u001b[0m\u001b[0mparameters\u001b[0m\u001b[1;33m,\u001b[0m \u001b[0margs\u001b[0m\u001b[1;33m)\u001b[0m\u001b[1;33m:\u001b[0m\u001b[1;33m\u001b[0m\u001b[1;33m\u001b[0m\u001b[0m\n\u001b[0;32m    505\u001b[0m             \u001b[0mkwargs\u001b[0m\u001b[1;33m[\u001b[0m\u001b[0mk\u001b[0m\u001b[1;33m]\u001b[0m \u001b[1;33m=\u001b[0m \u001b[0marg\u001b[0m\u001b[1;33m\u001b[0m\u001b[1;33m\u001b[0m\u001b[0m\n\u001b[1;32m--> 506\u001b[1;33m         \u001b[1;32mreturn\u001b[0m \u001b[0mf\u001b[0m\u001b[1;33m(\u001b[0m\u001b[1;33m**\u001b[0m\u001b[0mkwargs\u001b[0m\u001b[1;33m)\u001b[0m\u001b[1;33m\u001b[0m\u001b[1;33m\u001b[0m\u001b[0m\n\u001b[0m\u001b[0;32m    507\u001b[0m \u001b[1;33m\u001b[0m\u001b[0m\n\u001b[0;32m    508\u001b[0m     \u001b[1;32mreturn\u001b[0m \u001b[0minner_f\u001b[0m\u001b[1;33m\u001b[0m\u001b[1;33m\u001b[0m\u001b[0m\n",
      "\u001b[1;31mTypeError\u001b[0m: fit() got an unexpected keyword argument 'early_stooping_rounds'"
     ]
    }
   ],
   "source": [
    "from xgboost import XGBClassifier\n",
    "xgb1 = XGBClassifier(colsample_bytree=1.0,\n",
    "learning_rate=0.1,\n",
    "max_depth= 4,\n",
    "n_estimators=400,\n",
    "subsample=1.0)\n",
    "\n",
    "eval_set = [(X_test,y_test)]\n",
    "\n",
    "xgb1.fit(X_train, y_train, early_stooping_rounds=10, eval_metric=\"logloss\", eval_set= eval_set, verbose=True)"
   ]
  },
  {
   "cell_type": "code",
   "execution_count": null,
   "id": "dc8ba3fd",
   "metadata": {},
   "outputs": [],
   "source": [
    "pip install xgboost"
   ]
  },
  {
   "cell_type": "code",
   "execution_count": 30,
   "id": "dd5fbd82",
   "metadata": {},
   "outputs": [
    {
     "name": "stdout",
     "output_type": "stream",
     "text": [
      "[0]\tvalidation_0-logloss:0.63929\n",
      "[1]\tvalidation_0-logloss:0.59762\n",
      "[2]\tvalidation_0-logloss:0.56422\n",
      "[3]\tvalidation_0-logloss:0.53183\n",
      "[4]\tvalidation_0-logloss:0.50465\n",
      "[5]\tvalidation_0-logloss:0.48130\n",
      "[6]\tvalidation_0-logloss:0.46135\n",
      "[7]\tvalidation_0-logloss:0.44722\n",
      "[8]\tvalidation_0-logloss:0.43508\n",
      "[9]\tvalidation_0-logloss:0.42311\n",
      "[10]\tvalidation_0-logloss:0.40869\n",
      "[11]\tvalidation_0-logloss:0.39828\n",
      "[12]\tvalidation_0-logloss:0.39094\n",
      "[13]\tvalidation_0-logloss:0.38522\n",
      "[14]\tvalidation_0-logloss:0.37836\n",
      "[15]\tvalidation_0-logloss:0.37250\n",
      "[16]\tvalidation_0-logloss:0.36963\n",
      "[17]\tvalidation_0-logloss:0.36676\n",
      "[18]\tvalidation_0-logloss:0.36467\n",
      "[19]\tvalidation_0-logloss:0.36335\n",
      "[20]\tvalidation_0-logloss:0.36152\n",
      "[21]\tvalidation_0-logloss:0.36137\n",
      "[22]\tvalidation_0-logloss:0.35676\n",
      "[23]\tvalidation_0-logloss:0.35485\n",
      "[24]\tvalidation_0-logloss:0.35313\n",
      "[25]\tvalidation_0-logloss:0.34993\n",
      "[26]\tvalidation_0-logloss:0.34873\n",
      "[27]\tvalidation_0-logloss:0.34697\n",
      "[28]\tvalidation_0-logloss:0.34448\n",
      "[29]\tvalidation_0-logloss:0.34190\n",
      "[30]\tvalidation_0-logloss:0.34213\n",
      "[31]\tvalidation_0-logloss:0.34117\n",
      "[32]\tvalidation_0-logloss:0.33854\n",
      "[33]\tvalidation_0-logloss:0.33701\n",
      "[34]\tvalidation_0-logloss:0.33778\n",
      "[35]\tvalidation_0-logloss:0.33757\n",
      "[36]\tvalidation_0-logloss:0.33578\n",
      "[37]\tvalidation_0-logloss:0.33511\n",
      "[38]\tvalidation_0-logloss:0.33418\n",
      "[39]\tvalidation_0-logloss:0.33277\n",
      "[40]\tvalidation_0-logloss:0.33211\n",
      "[41]\tvalidation_0-logloss:0.32965\n",
      "[42]\tvalidation_0-logloss:0.32868\n",
      "[43]\tvalidation_0-logloss:0.32739\n",
      "[44]\tvalidation_0-logloss:0.32850\n",
      "[45]\tvalidation_0-logloss:0.32887\n",
      "[46]\tvalidation_0-logloss:0.33055\n",
      "[47]\tvalidation_0-logloss:0.32993\n",
      "[48]\tvalidation_0-logloss:0.33082\n",
      "[49]\tvalidation_0-logloss:0.32964\n",
      "[50]\tvalidation_0-logloss:0.32906\n",
      "[51]\tvalidation_0-logloss:0.32838\n",
      "[52]\tvalidation_0-logloss:0.32767\n",
      "[53]\tvalidation_0-logloss:0.32965\n"
     ]
    },
    {
     "name": "stderr",
     "output_type": "stream",
     "text": [
      "C:\\Users\\india\\anaconda3\\lib\\site-packages\\xgboost\\sklearn.py:1224: UserWarning: The use of label encoder in XGBClassifier is deprecated and will be removed in a future release. To remove this warning, do the following: 1) Pass option use_label_encoder=False when constructing XGBClassifier object; and 2) Encode your labels (y) as integers starting with 0, i.e. 0, 1, 2, ..., [num_class - 1].\n",
      "  warnings.warn(label_encoder_deprecation_msg, UserWarning)\n"
     ]
    },
    {
     "data": {
      "text/plain": [
       "XGBClassifier(base_score=0.5, booster='gbtree', colsample_bylevel=1,\n",
       "              colsample_bynode=1, colsample_bytree=1.0,\n",
       "              enable_categorical=False, gamma=0, gpu_id=-1,\n",
       "              importance_type=None, interaction_constraints='',\n",
       "              learning_rate=0.1, max_delta_step=0, max_depth=4,\n",
       "              min_child_weight=1, missing=nan, monotone_constraints='()',\n",
       "              n_estimators=400, n_jobs=8, num_parallel_tree=1, predictor='auto',\n",
       "              random_state=0, reg_alpha=0, reg_lambda=1, scale_pos_weight=1,\n",
       "              subsample=1.0, tree_method='exact', validate_parameters=1,\n",
       "              verbosity=None)"
      ]
     },
     "execution_count": 30,
     "metadata": {},
     "output_type": "execute_result"
    }
   ],
   "source": [
    "from xgboost import XGBClassifier\n",
    "xgb1 = XGBClassifier(colsample_bytree=1.0,\n",
    "                    learning_rate=0.1,\n",
    "                    max_depth= 4,\n",
    "                    n_estimators=400,\n",
    "                    subsample=1.0)\n",
    "\n",
    "eval_set = [(X_test,y_test)]\n",
    "\n",
    "xgb1.fit(X_train, y_train, early_stopping_rounds=10, eval_metric=\"logloss\", eval_set= eval_set, verbose=True)"
   ]
  },
  {
   "cell_type": "code",
   "execution_count": 31,
   "id": "5f1a4b90",
   "metadata": {},
   "outputs": [
    {
     "name": "stdout",
     "output_type": "stream",
     "text": [
      "Accuracy Score:- 0.8555555555555555\n",
      "Precision Score:- 0.8\n",
      "Recall Score:- 0.7142857142857143\n",
      "Confusion Matrix:- \n",
      " [[57  5]\n",
      " [ 8 20]]\n"
     ]
    }
   ],
   "source": [
    "pred6 = xgb1.predict(X_test)\n",
    "evaluating_model(y_test, pred6)"
   ]
  },
  {
   "cell_type": "code",
   "execution_count": 32,
   "id": "711bc757",
   "metadata": {},
   "outputs": [
    {
     "data": {
      "image/png": "[encoded data removed]",
      "text/plain": [
       "<Figure size 432x288 with 1 Axes>"
      ]
     },
     "metadata": {
      "needs_background": "light"
     },
     "output_type": "display_data"
    }
   ],
   "source": [
    "from xgboost import plot_importance\n",
    "plot_importance(xgb1)\n",
    "plt.show()"
   ]
  },
  {
   "cell_type": "code",
   "execution_count": 33,
   "id": "567870c6",
   "metadata": {},
   "outputs": [
    {
     "name": "stdout",
     "output_type": "stream",
     "text": [
      "Accuracy Score:- 0.8555555555555555\n",
      "Precision Score:- 0.8571428571428571\n",
      "Recall Score:- 0.6428571428571429\n",
      "Confusion Matrix:- \n",
      " [[59  3]\n",
      " [10 18]]\n"
     ]
    }
   ],
   "source": [
    "from sklearn.ensemble import GradientBoostingClassifier\n",
    "\n",
    "gdbt = GradientBoostingClassifier(n_estimators=200, learning_rate = 0.1, max_depth=1,random_state=0)\n",
    "gdbt.fit(X_train, y_train)\n",
    "\n",
    "pred_gdbt = gdbt.predict(X_test)\n",
    "evaluating_model(y_test, pred_gdbt)"
   ]
  },
  {
   "cell_type": "markdown",
   "id": "9c431fcf",
   "metadata": {},
   "source": [
    "# Choosing the best model and saving them"
   ]
  },
  {
   "cell_type": "code",
   "execution_count": 35,
   "id": "bb31aef5",
   "metadata": {},
   "outputs": [
    {
     "data": {
      "text/plain": [
       "array([0, 0, 1, 0, 0, 0, 0, 0, 1, 0, 0, 1, 0, 0, 1, 1, 0, 0, 0, 0, 1, 0,\n",
       "       0, 0, 1, 0, 1, 0, 0, 0, 0, 1, 1, 0, 0, 0, 0, 0, 0, 1, 0, 0, 0, 0,\n",
       "       1, 0, 0, 1, 1, 1, 0, 0, 1, 0, 1, 0, 0, 1, 0, 0, 1, 0, 1, 0, 0, 0,\n",
       "       0, 0, 1, 1, 0, 0, 0, 1, 1, 0, 1, 0, 0, 0, 0, 0, 0, 0, 0, 0, 0, 0,\n",
       "       0, 0], dtype=int64)"
      ]
     },
     "execution_count": 35,
     "metadata": {},
     "output_type": "execute_result"
    }
   ],
   "source": [
    "import joblib\n",
    "joblib.dump(xgb1, 'model.pkl')\n",
    "model = joblib.load('model.pkl')\n",
    "model.predict(X_test)"
   ]
  },
  {
   "cell_type": "code",
   "execution_count": null,
   "id": "497b1772",
   "metadata": {},
   "outputs": [],
   "source": []
  }
 ],
 "metadata": {
  "kernelspec": {
   "display_name": "Python 3",
   "language": "python",
   "name": "python3"
  },
  "language_info": {
   "codemirror_mode": {
    "name": "ipython",
    "version": 3
   },
   "file_extension": ".py",
   "mimetype": "text/x-python",
   "name": "python",
   "nbconvert_exporter": "python",
   "pygments_lexer": "ipython3",
   "version": "3.8.8"
  }
 },
 "nbformat": 4,
 "nbformat_minor": 5
}
